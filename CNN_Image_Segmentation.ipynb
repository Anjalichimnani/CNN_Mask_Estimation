{
  "nbformat": 4,
  "nbformat_minor": 0,
  "metadata": {
    "colab": {
      "name": "CNN_Mask_Estimation.ipynb",
      "provenance": [],
      "include_colab_link": true
    },
    "kernelspec": {
      "name": "python3",
      "display_name": "Python 3"
    },
    "accelerator": "GPU"
  },
  "cells": [
    {
      "cell_type": "markdown",
      "metadata": {
        "id": "view-in-github",
        "colab_type": "text"
      },
      "source": [
        "<a href=\"https://colab.research.google.com/github/Anjalichimnani/CNN_Mask_Estimation/blob/master/CNN_Image_Segmentation.ipynb\" target=\"_parent\"><img src=\"https://colab.research.google.com/assets/colab-badge.svg\" alt=\"Open In Colab\"/></a>"
      ]
    },
    {
      "cell_type": "code",
      "metadata": {
        "id": "Bw83rdszP-Xa",
        "colab_type": "code",
        "colab": {}
      },
      "source": [
        "%matplotlib inline"
      ],
      "execution_count": 0,
      "outputs": []
    },
    {
      "cell_type": "code",
      "metadata": {
        "id": "rLnFuGIgQZnG",
        "colab_type": "code",
        "outputId": "bed2c1a2-5a62-403d-ec69-94ccbb0b8d1d",
        "colab": {
          "base_uri": "https://localhost:8080/",
          "height": 139
        }
      },
      "source": [
        "! git clone https://github.com/Anjalichimnani/EVA4_Custom_Data.git"
      ],
      "execution_count": 2,
      "outputs": [
        {
          "output_type": "stream",
          "text": [
            "Cloning into 'EVA4_Custom_Data'...\n",
            "remote: Enumerating objects: 373, done.\u001b[K\n",
            "remote: Counting objects: 100% (373/373), done.\u001b[K\n",
            "remote: Compressing objects: 100% (351/351), done.\u001b[K\n",
            "remote: Total 373 (delta 32), reused 357 (delta 18), pack-reused 0\u001b[K\n",
            "Receiving objects: 100% (373/373), 5.51 MiB | 39.21 MiB/s, done.\n",
            "Resolving deltas: 100% (32/32), done.\n"
          ],
          "name": "stdout"
        }
      ]
    },
    {
      "cell_type": "code",
      "metadata": {
        "id": "Btvv_AEjjnKg",
        "colab_type": "code",
        "outputId": "c5ce8de8-05e7-4cc6-991d-d4f2be8b56c8",
        "colab": {
          "base_uri": "https://localhost:8080/",
          "height": 124
        }
      },
      "source": [
        "from google.colab import drive\n",
        "drive.mount('/content/gdrive', force_remount=True)"
      ],
      "execution_count": 3,
      "outputs": [
        {
          "output_type": "stream",
          "text": [
            "Go to this URL in a browser: https://accounts.google.com/o/oauth2/auth?client_id=947318989803-6bn6qk8qdgf4n4g3pfee6491hc0brc4i.apps.googleusercontent.com&redirect_uri=urn%3aietf%3awg%3aoauth%3a2.0%3aoob&response_type=code&scope=email%20https%3a%2f%2fwww.googleapis.com%2fauth%2fdocs.test%20https%3a%2f%2fwww.googleapis.com%2fauth%2fdrive%20https%3a%2f%2fwww.googleapis.com%2fauth%2fdrive.photos.readonly%20https%3a%2f%2fwww.googleapis.com%2fauth%2fpeopleapi.readonly\n",
            "\n",
            "Enter your authorization code:\n",
            "··········\n",
            "Mounted at /content/gdrive\n"
          ],
          "name": "stdout"
        }
      ]
    },
    {
      "cell_type": "code",
      "metadata": {
        "id": "Ylo9QlDyjzQB",
        "colab_type": "code",
        "colab": {}
      },
      "source": [
        "import sys\n",
        "sys.path.append('/content/gdrive/My Drive/EVA4/Assignment_15/15A/files/')\n",
        "from imports.imports_eva import *\n",
        "\n",
        "from supplements.Supplements import Supplements\n",
        "\n",
        "from dataloaders.custom_data_loader import custom_data_loader\n",
        "from models.CustomNet import CustomNet\n",
        "from models.UNet import UNet\n",
        "from models.Net import Net"
      ],
      "execution_count": 0,
      "outputs": []
    },
    {
      "cell_type": "code",
      "metadata": {
        "id": "55E7o_6Qj3_e",
        "colab_type": "code",
        "outputId": "443a97a2-b614-421c-e226-4d4d4334456b",
        "colab": {
          "base_uri": "https://localhost:8080/",
          "height": 55
        }
      },
      "source": [
        "import time\n",
        "import glob\n",
        "import torch\n",
        "import os\n",
        "import cv2\n",
        "import numpy as np\n",
        "from google.colab.patches import cv2_imshow\n",
        "\n",
        "from IPython.display import Image, clear_output \n",
        "print('PyTorch %s %s' % (torch.__version__, torch.cuda.get_device_properties(0) if torch.cuda.is_available() else 'CPU'))"
      ],
      "execution_count": 5,
      "outputs": [
        {
          "output_type": "stream",
          "text": [
            "PyTorch 1.5.0+cu101 _CudaDeviceProperties(name='Tesla P100-PCIE-16GB', major=6, minor=0, total_memory=16280MB, multi_processor_count=56)\n"
          ],
          "name": "stdout"
        }
      ]
    },
    {
      "cell_type": "code",
      "metadata": {
        "id": "x2DG2i4gir9Y",
        "colab_type": "code",
        "outputId": "d9177634-5e61-4ff2-e9c3-fde2938c6685",
        "colab": {
          "base_uri": "https://localhost:8080/",
          "height": 35
        }
      },
      "source": [
        "cd /content/EVA4_Custom_Data/"
      ],
      "execution_count": 9,
      "outputs": [
        {
          "output_type": "stream",
          "text": [
            "/content/EVA4_Custom_Data\n"
          ],
          "name": "stdout"
        }
      ]
    },
    {
      "cell_type": "code",
      "metadata": {
        "id": "nKNBn-uqiQ6R",
        "colab_type": "code",
        "colab": {}
      },
      "source": [
        "!mkdir fg_images_flip\n",
        "!mkdir mask_images_flip\n",
        "\n",
        "!mkdir fg_bg_images\n",
        "!mkdir mask_bg_images\n",
        "\n",
        "!mkdir bg_images_all"
      ],
      "execution_count": 0,
      "outputs": []
    },
    {
      "cell_type": "code",
      "metadata": {
        "id": "zdH7bQIZQfiU",
        "colab_type": "code",
        "outputId": "a64a71be-356d-4b30-bd09-180936f1baef",
        "colab": {
          "base_uri": "https://localhost:8080/",
          "height": 87
        }
      },
      "source": [
        "root_path = '/content/EVA4_Custom_Data/'\n",
        "\n",
        "!ls /content/EVA4_Custom_Data"
      ],
      "execution_count": 15,
      "outputs": [
        {
          "output_type": "stream",
          "text": [
            "addon_images\t     code\t     mask_bg_images    reference_images\n",
            "Assignment15A.ipynb  fg_bg_images    mask_images\n",
            "bg_images\t     fg_images\t     mask_images_flip\n",
            "bg_images_all\t     fg_images_flip  README.md\n"
          ],
          "name": "stdout"
        }
      ]
    },
    {
      "cell_type": "code",
      "metadata": {
        "id": "0DVOBIkykMGA",
        "colab_type": "code",
        "colab": {}
      },
      "source": [
        "Supplements.flip_image_alpha ('/content/EVA4_Custom_Data/fg_images/', '/content/EVA4_Custom_Data/fg_images_flip/')"
      ],
      "execution_count": 0,
      "outputs": []
    },
    {
      "cell_type": "code",
      "metadata": {
        "id": "X2UC1x4ckR-w",
        "colab_type": "code",
        "colab": {}
      },
      "source": [
        "Supplements.flip_image_wo_alpha ('/content/EVA4_Custom_Data/mask_images/', '/content/EVA4_Custom_Data/mask_images_flip/')"
      ],
      "execution_count": 0,
      "outputs": []
    },
    {
      "cell_type": "code",
      "metadata": {
        "id": "pCudf7fMkWng",
        "colab_type": "code",
        "colab": {}
      },
      "source": [
        "Supplements.overlay_images (bgpath = '/content/EVA4_Custom_Data/bg_images/', fgpath = '/content/EVA4_Custom_Data/fg_images/', newpath = '/content/EVA4_Custom_Data/fg_bg_images/', name_prefix = 'base', bg_img_size = 224, fg_img_size = 112)"
      ],
      "execution_count": 0,
      "outputs": []
    },
    {
      "cell_type": "code",
      "metadata": {
        "id": "O1OxanW2kZKb",
        "colab_type": "code",
        "colab": {}
      },
      "source": [
        "Supplements.overlay_images (bgpath = '/content/EVA4_Custom_Data/bg_images/', fgpath = '/content/EVA4_Custom_Data/fg_images_flip/', newpath = '/content/EVA4_Custom_Data/fg_bg_images/', name_prefix = 'flip', bg_img_size = 224, fg_img_size = 112)"
      ],
      "execution_count": 0,
      "outputs": []
    },
    {
      "cell_type": "code",
      "metadata": {
        "id": "ayEkvwYekbF2",
        "colab_type": "code",
        "outputId": "a3c42dd7-dd88-499a-d8f3-1e95ccf17d56",
        "colab": {
          "base_uri": "https://localhost:8080/",
          "height": 69
        }
      },
      "source": [
        "!ls fg_bg_images | wc - l"
      ],
      "execution_count": 20,
      "outputs": [
        {
          "output_type": "stream",
          "text": [
            " 400000  400000 12800000 -\n",
            "wc: l: No such file or directory\n",
            " 400000  400000 12800000 total\n"
          ],
          "name": "stdout"
        }
      ]
    },
    {
      "cell_type": "code",
      "metadata": {
        "id": "PnhldzShkf0D",
        "colab_type": "code",
        "colab": {}
      },
      "source": [
        "Supplements.overlay_mask_images (bgpath = '/content/EVA4_Custom_Data/addon_images/', fgpath = '/content/EVA4_Custom_Data/mask_images/', newpath = '/content/EVA4_Custom_Data/mask_bg_images/', name_prefix = 'base', bg_img_size = 224, fg_img_size = 112)"
      ],
      "execution_count": 0,
      "outputs": []
    },
    {
      "cell_type": "code",
      "metadata": {
        "id": "qz_2MTxwkj60",
        "colab_type": "code",
        "colab": {}
      },
      "source": [
        "Supplements.overlay_mask_images (bgpath = '/content/EVA4_Custom_Data/addon_images/', fgpath = '/content/EVA4_Custom_Data/mask_images_flip/', newpath = '/content/EVA4_Custom_Data/mask_bg_images/', name_prefix = 'flip', bg_img_size = 224, fg_img_size = 112)"
      ],
      "execution_count": 0,
      "outputs": []
    },
    {
      "cell_type": "code",
      "metadata": {
        "id": "sWqZ_peiCoFn",
        "colab_type": "code",
        "colab": {}
      },
      "source": [
        "Supplements.load_all_images (bgpath = '/content/EVA4_Custom_Data/bg_images/', fgpath = '/content/EVA4_Custom_Data/fg_images/', newpath = '/content/EVA4_Custom_Data/bg_images_all/', name_prefix = 'base', bg_img_size = 224, fg_img_size = 112)"
      ],
      "execution_count": 0,
      "outputs": []
    },
    {
      "cell_type": "code",
      "metadata": {
        "id": "3VtSWllvC1hC",
        "colab_type": "code",
        "colab": {}
      },
      "source": [
        "Supplements.load_all_images (bgpath = '/content/EVA4_Custom_Data/bg_images/', fgpath = '/content/EVA4_Custom_Data/fg_images/', newpath = '/content/EVA4_Custom_Data/bg_images_all/', name_prefix = 'flip', bg_img_size = 224, fg_img_size = 112)"
      ],
      "execution_count": 0,
      "outputs": []
    },
    {
      "cell_type": "code",
      "metadata": {
        "id": "bhuUCHBHC9a6",
        "colab_type": "code",
        "outputId": "3b923bb4-4278-484e-a9c7-490ae812e54f",
        "colab": {
          "base_uri": "https://localhost:8080/",
          "height": 69
        }
      },
      "source": [
        "!ls bg_images_all | wc - l"
      ],
      "execution_count": 0,
      "outputs": [
        {
          "output_type": "stream",
          "text": [
            " 400000  400000 12800000 -\n",
            "wc: l: No such file or directory\n",
            " 400000  400000 12800000 total\n"
          ],
          "name": "stdout"
        }
      ]
    },
    {
      "cell_type": "code",
      "metadata": {
        "id": "_MaSVOrvQhpV",
        "colab_type": "code",
        "colab": {}
      },
      "source": [
        "classes = []\n",
        "\n",
        "\n",
        "train_losses = []\n",
        "test_losses = []\n",
        "train_acc = []\n",
        "test_acc = []"
      ],
      "execution_count": 0,
      "outputs": []
    },
    {
      "cell_type": "code",
      "metadata": {
        "id": "WfvTEMSD5Ecb",
        "colab_type": "code",
        "colab": {}
      },
      "source": [
        "from imports.imports_eva import *\n",
        "\n",
        "class UNet (nn.Module):\n",
        "\n",
        "    #Contracting Block\n",
        "    def contractBlock (self, in_channels, out_channels, kernel_size = 3):\n",
        "        block = nn.Sequential (\n",
        "            nn.Conv2d(in_channels = in_channels, out_channels = out_channels, kernel_size = kernel_size, stride = 1, padding = 1, bias = False),\n",
        "            nn.BatchNorm2d (num_features = out_channels),\n",
        "            nn.ReLU(),\n",
        "\n",
        "            nn.Conv2d(in_channels = out_channels, out_channels = out_channels, kernel_size = kernel_size, stride = 1, padding = 1, bias = False),\n",
        "            nn.BatchNorm2d (num_features = out_channels),\n",
        "            nn.ReLU()\n",
        "        )\n",
        "        return block\n",
        "\n",
        "    def expandBlock (self, in_channels, mid_channels, out_channels, kernel_size = 3):\n",
        "        block = nn.Sequential (\n",
        "            nn.Conv2d (in_channels = in_channels, out_channels = mid_channels, kernel_size = kernel_size, stride = 1, padding = 0, bias = False),\n",
        "            nn.BatchNorm2d (mid_channels),\n",
        "            nn.ReLU(),\n",
        "\n",
        "            nn.Conv2d (in_channels = mid_channels, out_channels = mid_channels, kernel_size = kernel_size, stride = 1, padding = 0, bias = False),\n",
        "            nn.BatchNorm2d (mid_channels),\n",
        "            nn.ReLU(),\n",
        "\n",
        "            #Up Sampling\n",
        "            nn.ConvTranspose2d (in_channels = mid_channels, out_channels = out_channels, kernel_size = 3, stride = 2, padding = 1, output_padding = 1, bias = False)\n",
        "        )\n",
        "        return block\n",
        "\n",
        "    def finalBlock (self, in_channels, mid_channels, out_channels, kernel_size = 3, kernel_size_final = 1):\n",
        "        block = nn.Sequential (\n",
        "            nn.Conv2d (in_channels = in_channels, out_channels = mid_channels, kernel_size = kernel_size, stride = 1, padding = 0, bias = False),\n",
        "            nn.BatchNorm2d (mid_channels),\n",
        "            nn.ReLU(),\n",
        "\n",
        "            nn.Conv2d (in_channels = mid_channels, out_channels = mid_channels, kernel_size = kernel_size, stride = 1, padding = 0, bias = False),\n",
        "            nn.BatchNorm2d (mid_channels),\n",
        "            nn.ReLU(),\n",
        "\n",
        "            nn.Conv2d (in_channels = mid_channels, out_channels = out_channels, kernel_size = kernel_size, stride = 1, padding = 0, bias = False),\n",
        "            nn.BatchNorm2d (out_channels),\n",
        "            nn.ReLU()\n",
        "        )\n",
        "        return block\n",
        "\n",
        "    def __init__ (self, in_channels, out_channels):\n",
        "        super (UNet, self).__init__()\n",
        "\n",
        "        #Encode\n",
        "        self.convblock1 = self.contractBlock (in_channels = in_channels, out_channels = 64)\n",
        "        self.pool1 = nn.MaxPool2d (kernel_size = 2, stride = 2)\n",
        "\n",
        "        self.convblock2 = self.contractBlock (in_channels = 64, out_channels = 128)\n",
        "        self.pool2 = nn.MaxPool2d (kernel_size = 2, stride = 2)\n",
        "\n",
        "        self.convblock3 = self.contractBlock (in_channels = 128, out_channels = 256)\n",
        "        self.pool3 = nn.MaxPool2d (kernel_size = 2, stride = 2)\n",
        "\n",
        "        self.convblock4 = self.contractBlock (in_channels = 256, out_channels = 512)\n",
        "        self.pool4 = nn.MaxPool2d (kernel_size = 2, stride = 2)\n",
        "\n",
        "        #Base\n",
        "        self.base = nn.Sequential (\n",
        "            nn.Conv2d (in_channels = 512, out_channels = 1024, kernel_size = 3, stride = 1, padding = 0, bias = False),\n",
        "            nn.BatchNorm2d (num_features= 1024),\n",
        "            nn.ReLU(),\n",
        "\n",
        "            nn.Conv2d (in_channels = 1024, out_channels = 1024, kernel_size = 3, stride = 1, padding = 0, bias = False),\n",
        "            nn.BatchNorm2d (num_features = 1024),\n",
        "            nn.ReLU(),\n",
        "\n",
        "            nn.ConvTranspose2d (in_channels = 1024, out_channels = 512, kernel_size = 3, stride = 2, padding = 1, output_padding = 1, bias = False)\n",
        "        )\n",
        "\n",
        "        # Decode\n",
        "        self.convblock5 = self.expandBlock (in_channels = 1024, mid_channels = 512, out_channels = 256)\n",
        "\n",
        "        self.convblock6 = self.expandBlock (in_channels = 512, mid_channels = 256, out_channels = 128)\n",
        "\n",
        "        self.convblock7 = self.expandBlock (in_channels = 256, mid_channels = 128, out_channels = 64)\n",
        "\n",
        "        self.convblock_final = self.finalBlock (in_channels = 128, mid_channels = 64, out_channels = out_channels)\n",
        "\n",
        "    def crop_and_concat(self, upsampled, bypass, crop=False):\n",
        "        if crop:\n",
        "            c = (bypass.size()[2] - upsampled.size()[2]) // 2\n",
        "            bypass = F.pad(bypass, (-c, -c, -c, -c))\n",
        "        return torch.cat((upsampled, bypass), 1)\n",
        "\n",
        "    def forward (self, x):\n",
        "\n",
        "        # Encode\n",
        "        conv_encode_1 = self.convblock1 (x)\n",
        "        conv_encode_pool_1 = self.pool1 (conv_encode_1)\n",
        "\n",
        "        conv_encode_2 = self.convblock2 (conv_encode_pool_1)\n",
        "        conv_encode_pool_2 = self.pool2 (conv_encode_2)\n",
        "\n",
        "        conv_encode_3 = self.convblock3 (conv_encode_pool_2)\n",
        "        conv_encode_pool_3 = self.pool3 (conv_encode_3)\n",
        "\n",
        "        conv_encode_4 = self.convblock4 (conv_encode_pool_3)\n",
        "        conv_encode_pool_4 = self.pool4 (conv_encode_4)\n",
        "\n",
        "        # Base\n",
        "        conv_base = self.base (conv_encode_pool_4)\n",
        "\n",
        "        # Decode\n",
        "        concat_1 = self.crop_and_concat (conv_base, conv_encode_4, crop = True)\n",
        "        conv_decode_1 = self.convblock5 (concat_1)\n",
        "\n",
        "        concat_2 = self.crop_and_concat (conv_decode_1, conv_encode_3, crop = True)\n",
        "        conv_decode_2 = self.convblock6 (concat_2)\n",
        "\n",
        "        concat_3 = self.crop_and_concat (conv_decode_2, conv_encode_2, crop = True)\n",
        "        conv_decode_3 = self.convblock7 (concat_3)\n",
        "\n",
        "        concat_3 = self.crop_and_concat (conv_decode_3, conv_encode_1, crop = True)\n",
        "        conv_final_layer = self.convblock_final (concat_3)\n",
        "\n",
        "        return conv_final_layer\n"
      ],
      "execution_count": 0,
      "outputs": []
    },
    {
      "cell_type": "code",
      "metadata": {
        "id": "H29K_4BrkXh-",
        "colab_type": "code",
        "colab": {}
      },
      "source": [
        "class CustomNet (nn.Module):\n",
        "\n",
        "  def __init__ (self):\n",
        "    super(CustomNet, self).__init__()\n",
        "\n",
        "    self.conv_block_1 = nn.Sequential (\n",
        "        nn.Conv2d (in_channels=6, out_channels=64, kernel_size= 3, bias = False),\n",
        "        nn.BatchNorm2d (64),\n",
        "        nn.ReLU()\n",
        "    )\n",
        "\n",
        "    self.conv_block_2 = nn.Sequential (\n",
        "        nn.Conv2d (in_channels=64, out_channels=128, kernel_size=3),\n",
        "        nn.BatchNorm2d (num_features=128),\n",
        "        nn.ReLU()\n",
        "    )\n",
        "\n",
        "    self.pool1 = nn.MaxPool2d (kernel_size=2, stride=2)\n",
        "\n",
        "    self.conv_block_3 = nn.Sequential (\n",
        "        nn.Conv2d (in_channels=128, out_channels=128, kernel_size=3),\n",
        "        nn.BatchNorm2d (num_features=128),\n",
        "        nn.ReLU()\n",
        "    )\n",
        "\n",
        "    self.conv_block_4 = nn.Sequential (\n",
        "        nn.Conv2d (in_channels=128, out_channels=256, kernel_size=3),\n",
        "        nn.BatchNorm2d (num_features=256),\n",
        "        nn.ReLU()\n",
        "    )\n",
        "\n",
        "    self.conv_block_5 = nn.Sequential (\n",
        "        nn.Conv2d (in_channels=256, out_channels=1, kernel_size=3)\n",
        "    )\n",
        "\n",
        "  def forward (self, x):\n",
        "    x = self.conv_block_1 (x)\n",
        "    x = self.conv_block_2 (x)\n",
        "\n",
        "    x = self.pool1 (x)\n",
        "\n",
        "    x = self.conv_block_3 (x)\n",
        "    x = self.conv_block_4 (x)\n",
        "    x = self.conv_block_5 (x)\n",
        "\n",
        "    return x"
      ],
      "execution_count": 0,
      "outputs": []
    },
    {
      "cell_type": "code",
      "metadata": {
        "id": "2t0EeS85daZG",
        "colab_type": "code",
        "colab": {}
      },
      "source": [
        "class Net(nn.Module):\n",
        "    def __init__(self, drop=0):\n",
        "        super(Net, self).__init__()\n",
        "        self.drop = drop\n",
        "\n",
        "        self.convblock1_1 = nn.Sequential(\n",
        "            nn.Conv2d(3, 32, 3, stride=1, padding=1, bias=False),\n",
        "            nn.BatchNorm2d(32),\n",
        "            nn.ReLU()\n",
        "        )\n",
        "\n",
        "        self.convblock1_2 = nn.Sequential(\n",
        "            nn.Conv2d(32, 32, 3, stride=1, padding=1, bias=False, groups=32),\n",
        "            nn.Conv2d(32, 64, 1, stride=1, padding=0, bias=False),\n",
        "            nn.BatchNorm2d(64),\n",
        "            nn.ReLU()\n",
        "        )\n",
        "\n",
        "        self.convblock2_1 = nn.Sequential(\n",
        "            nn.Conv2d(3, 32, 3, stride=1, padding=1, bias=False),\n",
        "            nn.BatchNorm2d(32),\n",
        "            nn.ReLU()\n",
        "        )\n",
        "\n",
        "        self.convblock2_2 = nn.Sequential(\n",
        "            nn.Conv2d(32, 32, 3, stride=1, padding=1, bias=False, groups=32),\n",
        "            nn.Conv2d(32, 64, 1, stride=1, padding=0, bias=False),\n",
        "            nn.BatchNorm2d(64),\n",
        "            nn.ReLU()\n",
        "        )\n",
        "\n",
        "        self.convblock3 = nn.Sequential(\n",
        "            nn.Conv2d(128, 64, 1, stride=1, padding=0, bias=False),\n",
        "            nn.BatchNorm2d(64),\n",
        "            nn.ReLU()\n",
        "        )\n",
        "\n",
        "        self.convblock4 = nn.Sequential(\n",
        "            nn.Conv2d(64, 128, 3, stride=1, padding=1, bias=False),\n",
        "            nn.BatchNorm2d(128),\n",
        "            nn.ReLU()\n",
        "        )\n",
        "\n",
        "        self.convblock5 = nn.Sequential(\n",
        "            nn.Conv2d(128, 256, 3, stride=1, padding=1, bias=False),\n",
        "            nn.BatchNorm2d(256),\n",
        "            nn.ReLU()\n",
        "        )\n",
        "\n",
        "        self.convblock6 = nn.Sequential(\n",
        "            nn.Conv2d(256, 1, 3, stride=1, padding=1, bias=False),\n",
        "        )\n",
        "\n",
        "    def forward(self, input1, input2):\n",
        "        x1 = input1\n",
        "        x2 = input2\n",
        "\n",
        "        x1 = self.convblock1_2(self.convblock1_1(x1))\n",
        "        x2 = self.convblock2_2(self.convblock2_1(x2))\n",
        "\n",
        "        x_1 = torch.cat([x1, x2], dim=1)\n",
        "\n",
        "        x = self.convblock3(x_1)\n",
        "        x = self.convblock4(x)\n",
        "\n",
        "        x = (x + x_1)\n",
        "\n",
        "        x = self.convblock5(x)\n",
        "        x = self.convblock6(x)\n",
        "\n",
        "        return x"
      ],
      "execution_count": 0,
      "outputs": []
    },
    {
      "cell_type": "code",
      "metadata": {
        "id": "KzXhi1ej5xYK",
        "colab_type": "code",
        "colab": {}
      },
      "source": [
        "!pip install torchsummary\n",
        "from torchsummary import summary\n",
        "\n",
        "use_cuda = torch.cuda.is_available()\n",
        "device = torch.device(\"cuda\" if use_cuda else \"cpu\")\n",
        "print (device)\n",
        "\n",
        "model = UNet(in_channels=6, out_channels=1).to(device)\n",
        "summary (model, input_size=(6, 224, 224))\n",
        "#print (model)"
      ],
      "execution_count": 0,
      "outputs": []
    },
    {
      "cell_type": "code",
      "metadata": {
        "id": "RCexgoxHclgw",
        "colab_type": "code",
        "colab": {}
      },
      "source": [
        "data_transform = custom_data_loader.get_def_data_transform()"
      ],
      "execution_count": 0,
      "outputs": []
    },
    {
      "cell_type": "code",
      "metadata": {
        "id": "MmbEJbiF436M",
        "colab_type": "code",
        "colab": {}
      },
      "source": [
        "dataset = custom_data_loader.custom_data_set(root_path = '/content/EVA4_Custom_Data/', folder = 'images', transform = data_transform)\n",
        "dataset = custom_data_loader.custom_data_set(root_path = '/content/EVA4_Custom_Data/', folder = 'images', transform = data_transform)\n"
      ],
      "execution_count": 0,
      "outputs": []
    },
    {
      "cell_type": "code",
      "metadata": {
        "id": "gS8gIpoC40V-",
        "colab_type": "code",
        "colab": {
          "base_uri": "https://localhost:8080/",
          "height": 349
        },
        "outputId": "3dc08e3c-a2de-429a-8934-112cd6d4b1b7"
      },
      "source": [
        "dataset_loader = custom_data_loader.custom_data_loader (dataset, batch_size=128, num_workers=4, shuffle=True)\n",
        "test_dataset_loader = custom_data_loader.custom_data_loader (dataset_test, batch_size=128, num_workers=4, shuffle=False)"
      ],
      "execution_count": 19,
      "outputs": [
        {
          "output_type": "error",
          "ename": "ValueError",
          "evalue": "ignored",
          "traceback": [
            "\u001b[0;31m---------------------------------------------------------------------------\u001b[0m",
            "\u001b[0;31mValueError\u001b[0m                                Traceback (most recent call last)",
            "\u001b[0;32m<ipython-input-19-bf7efad13d97>\u001b[0m in \u001b[0;36m<module>\u001b[0;34m()\u001b[0m\n\u001b[0;32m----> 1\u001b[0;31m \u001b[0mdataset_loader\u001b[0m \u001b[0;34m=\u001b[0m \u001b[0mcustom_data_loader\u001b[0m\u001b[0;34m.\u001b[0m\u001b[0mcustom_data_loader\u001b[0m \u001b[0;34m(\u001b[0m\u001b[0mdataset\u001b[0m\u001b[0;34m,\u001b[0m \u001b[0mbatch_size\u001b[0m\u001b[0;34m=\u001b[0m\u001b[0;36m128\u001b[0m\u001b[0;34m,\u001b[0m \u001b[0mnum_workers\u001b[0m\u001b[0;34m=\u001b[0m\u001b[0;36m4\u001b[0m\u001b[0;34m,\u001b[0m \u001b[0mshuffle\u001b[0m\u001b[0;34m=\u001b[0m\u001b[0;32mTrue\u001b[0m\u001b[0;34m)\u001b[0m\u001b[0;34m\u001b[0m\u001b[0;34m\u001b[0m\u001b[0m\n\u001b[0m\u001b[1;32m      2\u001b[0m \u001b[0mtest_dataset_loader\u001b[0m \u001b[0;34m=\u001b[0m \u001b[0mcustom_data_loader\u001b[0m\u001b[0;34m.\u001b[0m\u001b[0mcustom_data_loader\u001b[0m \u001b[0;34m(\u001b[0m\u001b[0mdataset_test\u001b[0m\u001b[0;34m,\u001b[0m \u001b[0mbatch_size\u001b[0m\u001b[0;34m=\u001b[0m\u001b[0;36m128\u001b[0m\u001b[0;34m,\u001b[0m \u001b[0mnum_workers\u001b[0m\u001b[0;34m=\u001b[0m\u001b[0;36m4\u001b[0m\u001b[0;34m,\u001b[0m \u001b[0mshuffle\u001b[0m\u001b[0;34m=\u001b[0m\u001b[0;32mFalse\u001b[0m\u001b[0;34m)\u001b[0m\u001b[0;34m\u001b[0m\u001b[0;34m\u001b[0m\u001b[0m\n",
            "\u001b[0;32m/content/gdrive/My Drive/EVA4/Assignment_15/15A/files/dataloaders/custom_data_loader.py\u001b[0m in \u001b[0;36mcustom_data_loader\u001b[0;34m(dataset, batch_size, num_workers, shuffle)\u001b[0m\n\u001b[1;32m     61\u001b[0m \u001b[0;34m\u001b[0m\u001b[0m\n\u001b[1;32m     62\u001b[0m     \u001b[0;32mdef\u001b[0m \u001b[0mcustom_data_loader\u001b[0m \u001b[0;34m(\u001b[0m\u001b[0mdataset\u001b[0m\u001b[0;34m,\u001b[0m \u001b[0mbatch_size\u001b[0m\u001b[0;34m,\u001b[0m \u001b[0mnum_workers\u001b[0m\u001b[0;34m,\u001b[0m \u001b[0mshuffle\u001b[0m\u001b[0;34m=\u001b[0m\u001b[0;32mFalse\u001b[0m\u001b[0;34m)\u001b[0m\u001b[0;34m:\u001b[0m\u001b[0;34m\u001b[0m\u001b[0;34m\u001b[0m\u001b[0m\n\u001b[0;32m---> 63\u001b[0;31m         \u001b[0;32mreturn\u001b[0m \u001b[0mtorch\u001b[0m\u001b[0;34m.\u001b[0m\u001b[0mutils\u001b[0m\u001b[0;34m.\u001b[0m\u001b[0mdata\u001b[0m\u001b[0;34m.\u001b[0m\u001b[0mDataLoader\u001b[0m \u001b[0;34m(\u001b[0m\u001b[0mdataset\u001b[0m\u001b[0;34m,\u001b[0m \u001b[0mbatch_size\u001b[0m\u001b[0;34m=\u001b[0m\u001b[0mbatch_size\u001b[0m\u001b[0;34m,\u001b[0m \u001b[0mshuffle\u001b[0m\u001b[0;34m=\u001b[0m\u001b[0mshuffle\u001b[0m\u001b[0;34m,\u001b[0m \u001b[0mnum_workers\u001b[0m\u001b[0;34m=\u001b[0m\u001b[0mnum_workers\u001b[0m\u001b[0;34m)\u001b[0m\u001b[0;34m\u001b[0m\u001b[0;34m\u001b[0m\u001b[0m\n\u001b[0m",
            "\u001b[0;32m/usr/local/lib/python3.6/dist-packages/torch/utils/data/dataloader.py\u001b[0m in \u001b[0;36m__init__\u001b[0;34m(self, dataset, batch_size, shuffle, sampler, batch_sampler, num_workers, collate_fn, pin_memory, drop_last, timeout, worker_init_fn, multiprocessing_context)\u001b[0m\n\u001b[1;32m    211\u001b[0m             \u001b[0;32melse\u001b[0m\u001b[0;34m:\u001b[0m  \u001b[0;31m# map-style\u001b[0m\u001b[0;34m\u001b[0m\u001b[0;34m\u001b[0m\u001b[0m\n\u001b[1;32m    212\u001b[0m                 \u001b[0;32mif\u001b[0m \u001b[0mshuffle\u001b[0m\u001b[0;34m:\u001b[0m\u001b[0;34m\u001b[0m\u001b[0;34m\u001b[0m\u001b[0m\n\u001b[0;32m--> 213\u001b[0;31m                     \u001b[0msampler\u001b[0m \u001b[0;34m=\u001b[0m \u001b[0mRandomSampler\u001b[0m\u001b[0;34m(\u001b[0m\u001b[0mdataset\u001b[0m\u001b[0;34m)\u001b[0m\u001b[0;34m\u001b[0m\u001b[0;34m\u001b[0m\u001b[0m\n\u001b[0m\u001b[1;32m    214\u001b[0m                 \u001b[0;32melse\u001b[0m\u001b[0;34m:\u001b[0m\u001b[0;34m\u001b[0m\u001b[0;34m\u001b[0m\u001b[0m\n\u001b[1;32m    215\u001b[0m                     \u001b[0msampler\u001b[0m \u001b[0;34m=\u001b[0m \u001b[0mSequentialSampler\u001b[0m\u001b[0;34m(\u001b[0m\u001b[0mdataset\u001b[0m\u001b[0;34m)\u001b[0m\u001b[0;34m\u001b[0m\u001b[0;34m\u001b[0m\u001b[0m\n",
            "\u001b[0;32m/usr/local/lib/python3.6/dist-packages/torch/utils/data/sampler.py\u001b[0m in \u001b[0;36m__init__\u001b[0;34m(self, data_source, replacement, num_samples)\u001b[0m\n\u001b[1;32m     92\u001b[0m         \u001b[0;32mif\u001b[0m \u001b[0;32mnot\u001b[0m \u001b[0misinstance\u001b[0m\u001b[0;34m(\u001b[0m\u001b[0mself\u001b[0m\u001b[0;34m.\u001b[0m\u001b[0mnum_samples\u001b[0m\u001b[0;34m,\u001b[0m \u001b[0mint\u001b[0m\u001b[0;34m)\u001b[0m \u001b[0;32mor\u001b[0m \u001b[0mself\u001b[0m\u001b[0;34m.\u001b[0m\u001b[0mnum_samples\u001b[0m \u001b[0;34m<=\u001b[0m \u001b[0;36m0\u001b[0m\u001b[0;34m:\u001b[0m\u001b[0;34m\u001b[0m\u001b[0;34m\u001b[0m\u001b[0m\n\u001b[1;32m     93\u001b[0m             raise ValueError(\"num_samples should be a positive integer \"\n\u001b[0;32m---> 94\u001b[0;31m                              \"value, but got num_samples={}\".format(self.num_samples))\n\u001b[0m\u001b[1;32m     95\u001b[0m \u001b[0;34m\u001b[0m\u001b[0m\n\u001b[1;32m     96\u001b[0m     \u001b[0;34m@\u001b[0m\u001b[0mproperty\u001b[0m\u001b[0;34m\u001b[0m\u001b[0;34m\u001b[0m\u001b[0m\n",
            "\u001b[0;31mValueError\u001b[0m: num_samples should be a positive integer value, but got num_samples=0"
          ]
        }
      ]
    },
    {
      "cell_type": "code",
      "metadata": {
        "id": "poJNxBVTeo7D",
        "colab_type": "code",
        "colab": {}
      },
      "source": [
        "PATH = '/content/gdrive/My Drive/EVA4/Assignment_15/15A/files/Model_UNet_14_06.pth'"
      ],
      "execution_count": 0,
      "outputs": []
    },
    {
      "cell_type": "code",
      "metadata": {
        "id": "a1Jwwy_94D-W",
        "colab_type": "code",
        "colab": {}
      },
      "source": [
        "#criterion = nn.L1Loss().cuda()\n",
        "#criterion = nn.MSELoss().cuda()\n",
        "#criterion = nn.CrossEntropyLoss().cuda()\n",
        "criterion = nn.BCEWithLogitsLoss().cuda()"
      ],
      "execution_count": 0,
      "outputs": []
    },
    {
      "cell_type": "code",
      "metadata": {
        "id": "vU3ZIKXyBrED",
        "colab_type": "code",
        "colab": {}
      },
      "source": [
        "def train(model, device, train_loader, optimizer, epoch, criterion):\n",
        "  train_losses = []\n",
        "  train_acc = []\n",
        "  model.train()\n",
        "  pbar = tqdm(train_loader)\n",
        "  correct = 0\n",
        "  processed = 0\n",
        "\n",
        "  for batch_idx, (data) in enumerate(pbar):\n",
        "    idx = 0\n",
        "    # get samples\n",
        "    images = data[\"Image\"].to(device) \n",
        "    image_bgs = data[\"Image_Bg\"].to(device) \n",
        "    masks = data[\"Mask\"].to(device)\n",
        "\n",
        "    image_and_bg = torch.cat ((images,image_bgs), dim = 1)\n",
        "\n",
        "    # Init\n",
        "    optimizer.zero_grad()\n",
        "\n",
        "    # Predict\n",
        "    y_pred = model(image_and_bg)\n",
        "\n",
        "    # Calculate loss\n",
        "    criterion = criterion\n",
        "    loss = criterion(y_pred, masks)\n",
        "    train_losses.append(loss)\n",
        "\n",
        "    # Backpropagation\n",
        "    loss.backward()\n",
        "    optimizer.step()\n",
        "\n",
        "    if batch_idx % 1500 == 0:\n",
        "      torch.save(model.state_dict(), PATH)\n",
        "\n",
        "    pbar.set_description(desc= f'Loss={loss.item():0.3f} Batch_id={batch_idx} ')\n",
        "    train_acc.append(loss)\n",
        "\n",
        "  return train_losses, train_acc\n",
        "\n",
        "def test(model, device, test_loader):\n",
        "  model.eval()\n",
        "  test_losses = []\n",
        "  test_acc = []\n",
        "  test_loss = 0\n",
        "  correct = 0\n",
        "\n",
        "  with torch.no_grad():\n",
        "      for idx, data in enumerate(test_loader):\n",
        "        images = data[\"Image\"].to(device) \n",
        "        image_bgs = data[\"Image_Bg\"].to(device)   \n",
        "        masks = data[\"Mask\"].to(device)\n",
        "\n",
        "        image_and_bg = torch.cat ((images,image_bgs), dim = 1)\n",
        "\n",
        "        output = model(image_and_bg)\n",
        "        criterion = nn.BCEWithLogitsLoss().cuda()\n",
        "        test_loss += criterion(output, masks).item()  # sum up batch loss\n",
        "\n",
        "\n",
        "  test_loss /= len(test_loader.dataset)\n",
        "  test_losses.append(test_loss)\n",
        "\n",
        "  print('\\nTest set: Average loss: {:.4f}, Accuracy: /{} \\n'.format(\n",
        "      test_loss, len(test_loader.dataset)))\n",
        "  \n",
        "  test_acc.append(test_loss)\n",
        "  return test_losses, test_acc"
      ],
      "execution_count": 0,
      "outputs": []
    },
    {
      "cell_type": "code",
      "metadata": {
        "id": "CR_4pPl6CL1z",
        "colab_type": "code",
        "colab": {}
      },
      "source": [
        "model = UNet(in_channels=6, out_channels=1).to(device)\n",
        "optimizer = optim.SGD(model.parameters(), lr=0.1, momentum=0.9, weight_decay=0.000001)  # Removed Weight Decay\n",
        "scheduler = StepLR(optimizer, step_size=1, gamma=0.01)"
      ],
      "execution_count": 0,
      "outputs": []
    },
    {
      "cell_type": "code",
      "metadata": {
        "id": "1khYH8TbCQ-5",
        "colab_type": "code",
        "colab": {}
      },
      "source": [
        "from tqdm.notebook import tqdm\n",
        "\n",
        "EPOCHS = 5\n",
        "for epoch in range(EPOCHS):\n",
        "    print(\"EPOCH:\", epoch+1)\n",
        "    a,b = train(model, device, dataset_loader, optimizer, epoch)\n",
        "    train_losses.extend(a)\n",
        "    train_acc.extend(b)\n",
        "\n",
        "    scheduler.step()\n",
        "    print('')"
      ],
      "execution_count": 0,
      "outputs": []
    },
    {
      "cell_type": "code",
      "metadata": {
        "id": "vw8deAJrXU4X",
        "colab_type": "code",
        "colab": {}
      },
      "source": [
        ""
      ],
      "execution_count": 0,
      "outputs": []
    },
    {
      "cell_type": "code",
      "metadata": {
        "id": "5VlAoiVO_Dup",
        "colab_type": "code",
        "outputId": "15f58213-865d-43d8-92e4-d22f9dc0c616",
        "colab": {
          "base_uri": "https://localhost:8080/",
          "height": 52
        }
      },
      "source": [
        "images = iter(dataset_loader).next()\n",
        "\n",
        "print (images[\"Mask\"][0].shape)\n",
        "image = images[\"Image\"].to(device)\n",
        "image_bg = images[\"Image_Bg\"].to(device)\n",
        "masks = images[\"Mask\"].to(device)\n",
        "#print (images[\"Image\"][0])\n",
        "\n",
        "image_and_bg = torch.cat ((image, image_bg), dim = 1)\n",
        "\n",
        "y_pred = model(image_and_bg)\n",
        "\n",
        "print (y_pred[0][0].shape)"
      ],
      "execution_count": 0,
      "outputs": [
        {
          "output_type": "stream",
          "text": [
            "torch.Size([1, 24, 24])\n",
            "torch.Size([24, 24])\n"
          ],
          "name": "stdout"
        }
      ]
    },
    {
      "cell_type": "code",
      "metadata": {
        "id": "o1z-uLifcAig",
        "colab_type": "code",
        "outputId": "7327b4a7-1124-46d5-c91e-e33956117595",
        "colab": {
          "base_uri": "https://localhost:8080/",
          "height": 99
        }
      },
      "source": [
        "pilimage_transform = transforms.ToPILImage ()\n",
        "\n",
        "print (y_pred[0].shape)\n",
        "img_check = pilimage_transform (y_pred[0].cpu())\n",
        "\n",
        "display (img_check)"
      ],
      "execution_count": 0,
      "outputs": [
        {
          "output_type": "stream",
          "text": [
            "torch.Size([1, 64, 64])\n"
          ],
          "name": "stdout"
        },
        {
          "output_type": "display_data",
          "data": {
            "image/png": "[encoded data removed]",
            "text/plain": [
              "<PIL.Image.Image image mode=L size=64x64 at 0x7FF6FC35AE48>"
            ]
          },
          "metadata": {
            "tags": []
          }
        }
      ]
    },
    {
      "cell_type": "code",
      "metadata": {
        "id": "budNjPJFS6BQ",
        "colab_type": "code",
        "colab": {}
      },
      "source": [
        "def show_image(inp, n_row=8, title=None, mean=None, std=None):\n",
        "    \"\"\"Imshow for Tensor.\"\"\"\n",
        "    inp = torchvision.utils.make_grid(inp.detach().cpu(), n_row)\n",
        "    inp = inp.numpy().transpose((1, 2, 0))\n",
        "    if mean:\n",
        "        mean = np.array(mean)\n",
        "        std = np.array(std)\n",
        "        inp = std * inp + mean\n",
        "        inp = np.clip(inp, 0, 1)\n",
        "    plt.figure(figsize=(10, 10))\n",
        "    plt.imshow(inp)\n",
        "    plt.axis('off')\n",
        "    if title is not None:\n",
        "        plt.title(title)\n",
        "    plt.pause(0.001)  # pause a bit so that plots are updateddef show_image(inp, n_row=8, title=None, mean=None, std=None):\n",
        "    \"\"\"Imshow for Tensor.\"\"\"\n",
        "    inp = torchvision.utils.make_grid(inp.detach().cpu(), n_row)\n",
        "    inp = inp.numpy().transpose((1, 2, 0))\n",
        "    if mean:\n",
        "        mean = np.array(mean)\n",
        "        std = np.array(std)\n",
        "        inp = std * inp + mean\n",
        "        inp = np.clip(inp, 0, 1)\n",
        "    plt.figure(figsize=(10, 10))\n",
        "    plt.imshow(inp)\n",
        "    plt.axis('off')\n",
        "    if title is not None:\n",
        "        plt.title(title)\n",
        "    plt.pause(0.001)  # pause a bit so that plots are updated"
      ],
      "execution_count": 0,
      "outputs": []
    },
    {
      "cell_type": "code",
      "metadata": {
        "id": "VVsLg8DfTEvC",
        "colab_type": "code",
        "outputId": "76aba29d-4c71-4b4f-f5c0-5f6c96dcdb06",
        "colab": {
          "base_uri": "https://localhost:8080/",
          "height": 617
        }
      },
      "source": [
        "show_image(y_pred[::4], n_row=8, title='Predicted (Mask)')\n"
      ],
      "execution_count": 0,
      "outputs": [
        {
          "output_type": "stream",
          "text": [
            "Clipping input data to the valid range for imshow with RGB data ([0..1] for floats or [0..255] for integers).\n"
          ],
          "name": "stderr"
        },
        {
          "output_type": "display_data",
          "data": {
            "image/png": "[encoded data removed]",
            "text/plain": [
              "<Figure size 720x720 with 1 Axes>"
            ]
          },
          "metadata": {
            "tags": [],
            "needs_background": "light"
          }
        },
        {
          "output_type": "error",
          "ename": "AttributeError",
          "evalue": "ignored",
          "traceback": [
            "\u001b[0;31m---------------------------------------------------------------------------\u001b[0m",
            "\u001b[0;31mAttributeError\u001b[0m                            Traceback (most recent call last)",
            "\u001b[0;32m<ipython-input-150-31d78c225378>\u001b[0m in \u001b[0;36m<module>\u001b[0;34m()\u001b[0m\n\u001b[0;32m----> 1\u001b[0;31m \u001b[0mshow_image\u001b[0m\u001b[0;34m(\u001b[0m\u001b[0my_pred\u001b[0m\u001b[0;34m[\u001b[0m\u001b[0;34m:\u001b[0m\u001b[0;34m:\u001b[0m\u001b[0;36m4\u001b[0m\u001b[0;34m]\u001b[0m\u001b[0;34m,\u001b[0m \u001b[0mn_row\u001b[0m\u001b[0;34m=\u001b[0m\u001b[0;36m8\u001b[0m\u001b[0;34m,\u001b[0m \u001b[0mtitle\u001b[0m\u001b[0;34m=\u001b[0m\u001b[0;34m'Predicted (Mask)'\u001b[0m\u001b[0;34m)\u001b[0m\u001b[0;34m\u001b[0m\u001b[0;34m\u001b[0m\u001b[0m\n\u001b[0m",
            "\u001b[0;32m<ipython-input-126-ec6fc6b02848>\u001b[0m in \u001b[0;36mshow_image\u001b[0;34m(inp, n_row, title, mean, std)\u001b[0m\n\u001b[1;32m     15\u001b[0m     \u001b[0mplt\u001b[0m\u001b[0;34m.\u001b[0m\u001b[0mpause\u001b[0m\u001b[0;34m(\u001b[0m\u001b[0;36m0.001\u001b[0m\u001b[0;34m)\u001b[0m  \u001b[0;31m# pause a bit so that plots are updateddef show_image(inp, n_row=8, title=None, mean=None, std=None):\u001b[0m\u001b[0;34m\u001b[0m\u001b[0;34m\u001b[0m\u001b[0m\n\u001b[1;32m     16\u001b[0m     \u001b[0;34m\"\"\"Imshow for Tensor.\"\"\"\u001b[0m\u001b[0;34m\u001b[0m\u001b[0;34m\u001b[0m\u001b[0m\n\u001b[0;32m---> 17\u001b[0;31m     \u001b[0minp\u001b[0m \u001b[0;34m=\u001b[0m \u001b[0mtorchvision\u001b[0m\u001b[0;34m.\u001b[0m\u001b[0mutils\u001b[0m\u001b[0;34m.\u001b[0m\u001b[0mmake_grid\u001b[0m\u001b[0;34m(\u001b[0m\u001b[0minp\u001b[0m\u001b[0;34m.\u001b[0m\u001b[0mdetach\u001b[0m\u001b[0;34m(\u001b[0m\u001b[0;34m)\u001b[0m\u001b[0;34m.\u001b[0m\u001b[0mcpu\u001b[0m\u001b[0;34m(\u001b[0m\u001b[0;34m)\u001b[0m\u001b[0;34m,\u001b[0m \u001b[0mn_row\u001b[0m\u001b[0;34m)\u001b[0m\u001b[0;34m\u001b[0m\u001b[0;34m\u001b[0m\u001b[0m\n\u001b[0m\u001b[1;32m     18\u001b[0m     \u001b[0minp\u001b[0m \u001b[0;34m=\u001b[0m \u001b[0minp\u001b[0m\u001b[0;34m.\u001b[0m\u001b[0mnumpy\u001b[0m\u001b[0;34m(\u001b[0m\u001b[0;34m)\u001b[0m\u001b[0;34m.\u001b[0m\u001b[0mtranspose\u001b[0m\u001b[0;34m(\u001b[0m\u001b[0;34m(\u001b[0m\u001b[0;36m1\u001b[0m\u001b[0;34m,\u001b[0m \u001b[0;36m2\u001b[0m\u001b[0;34m,\u001b[0m \u001b[0;36m0\u001b[0m\u001b[0;34m)\u001b[0m\u001b[0;34m)\u001b[0m\u001b[0;34m\u001b[0m\u001b[0;34m\u001b[0m\u001b[0m\n\u001b[1;32m     19\u001b[0m     \u001b[0;32mif\u001b[0m \u001b[0mmean\u001b[0m\u001b[0;34m:\u001b[0m\u001b[0;34m\u001b[0m\u001b[0;34m\u001b[0m\u001b[0m\n",
            "\u001b[0;31mAttributeError\u001b[0m: 'numpy.ndarray' object has no attribute 'detach'"
          ]
        }
      ]
    },
    {
      "cell_type": "code",
      "metadata": {
        "id": "DRAjzuU4YsS4",
        "colab_type": "code",
        "outputId": "b24c6434-08cb-42b8-c806-9d6388227db3",
        "colab": {
          "base_uri": "https://localhost:8080/",
          "height": 600
        }
      },
      "source": [
        "show_image(masks[::4].cpu(), n_row=8, title='Predicted (Mask)')"
      ],
      "execution_count": 0,
      "outputs": [
        {
          "output_type": "display_data",
          "data": {
            "image/png": "[encoded data removed]",
            "text/plain": [
              "<Figure size 720x720 with 1 Axes>"
            ]
          },
          "metadata": {
            "tags": [],
            "needs_background": "light"
          }
        },
        {
          "output_type": "error",
          "ename": "AttributeError",
          "evalue": "ignored",
          "traceback": [
            "\u001b[0;31m---------------------------------------------------------------------------\u001b[0m",
            "\u001b[0;31mAttributeError\u001b[0m                            Traceback (most recent call last)",
            "\u001b[0;32m<ipython-input-151-6fe4b48579e6>\u001b[0m in \u001b[0;36m<module>\u001b[0;34m()\u001b[0m\n\u001b[0;32m----> 1\u001b[0;31m \u001b[0mshow_image\u001b[0m\u001b[0;34m(\u001b[0m\u001b[0mmasks\u001b[0m\u001b[0;34m[\u001b[0m\u001b[0;34m:\u001b[0m\u001b[0;34m:\u001b[0m\u001b[0;36m4\u001b[0m\u001b[0;34m]\u001b[0m\u001b[0;34m.\u001b[0m\u001b[0mcpu\u001b[0m\u001b[0;34m(\u001b[0m\u001b[0;34m)\u001b[0m\u001b[0;34m,\u001b[0m \u001b[0mn_row\u001b[0m\u001b[0;34m=\u001b[0m\u001b[0;36m8\u001b[0m\u001b[0;34m,\u001b[0m \u001b[0mtitle\u001b[0m\u001b[0;34m=\u001b[0m\u001b[0;34m'Predicted (Mask)'\u001b[0m\u001b[0;34m)\u001b[0m\u001b[0;34m\u001b[0m\u001b[0;34m\u001b[0m\u001b[0m\n\u001b[0m",
            "\u001b[0;32m<ipython-input-126-ec6fc6b02848>\u001b[0m in \u001b[0;36mshow_image\u001b[0;34m(inp, n_row, title, mean, std)\u001b[0m\n\u001b[1;32m     15\u001b[0m     \u001b[0mplt\u001b[0m\u001b[0;34m.\u001b[0m\u001b[0mpause\u001b[0m\u001b[0;34m(\u001b[0m\u001b[0;36m0.001\u001b[0m\u001b[0;34m)\u001b[0m  \u001b[0;31m# pause a bit so that plots are updateddef show_image(inp, n_row=8, title=None, mean=None, std=None):\u001b[0m\u001b[0;34m\u001b[0m\u001b[0;34m\u001b[0m\u001b[0m\n\u001b[1;32m     16\u001b[0m     \u001b[0;34m\"\"\"Imshow for Tensor.\"\"\"\u001b[0m\u001b[0;34m\u001b[0m\u001b[0;34m\u001b[0m\u001b[0m\n\u001b[0;32m---> 17\u001b[0;31m     \u001b[0minp\u001b[0m \u001b[0;34m=\u001b[0m \u001b[0mtorchvision\u001b[0m\u001b[0;34m.\u001b[0m\u001b[0mutils\u001b[0m\u001b[0;34m.\u001b[0m\u001b[0mmake_grid\u001b[0m\u001b[0;34m(\u001b[0m\u001b[0minp\u001b[0m\u001b[0;34m.\u001b[0m\u001b[0mdetach\u001b[0m\u001b[0;34m(\u001b[0m\u001b[0;34m)\u001b[0m\u001b[0;34m.\u001b[0m\u001b[0mcpu\u001b[0m\u001b[0;34m(\u001b[0m\u001b[0;34m)\u001b[0m\u001b[0;34m,\u001b[0m \u001b[0mn_row\u001b[0m\u001b[0;34m)\u001b[0m\u001b[0;34m\u001b[0m\u001b[0;34m\u001b[0m\u001b[0m\n\u001b[0m\u001b[1;32m     18\u001b[0m     \u001b[0minp\u001b[0m \u001b[0;34m=\u001b[0m \u001b[0minp\u001b[0m\u001b[0;34m.\u001b[0m\u001b[0mnumpy\u001b[0m\u001b[0;34m(\u001b[0m\u001b[0;34m)\u001b[0m\u001b[0;34m.\u001b[0m\u001b[0mtranspose\u001b[0m\u001b[0;34m(\u001b[0m\u001b[0;34m(\u001b[0m\u001b[0;36m1\u001b[0m\u001b[0;34m,\u001b[0m \u001b[0;36m2\u001b[0m\u001b[0;34m,\u001b[0m \u001b[0;36m0\u001b[0m\u001b[0;34m)\u001b[0m\u001b[0;34m)\u001b[0m\u001b[0;34m\u001b[0m\u001b[0;34m\u001b[0m\u001b[0m\n\u001b[1;32m     19\u001b[0m     \u001b[0;32mif\u001b[0m \u001b[0mmean\u001b[0m\u001b[0;34m:\u001b[0m\u001b[0;34m\u001b[0m\u001b[0;34m\u001b[0m\u001b[0m\n",
            "\u001b[0;31mAttributeError\u001b[0m: 'numpy.ndarray' object has no attribute 'detach'"
          ]
        }
      ]
    },
    {
      "cell_type": "code",
      "metadata": {
        "id": "1khWuk_PA5jY",
        "colab_type": "code",
        "outputId": "a583b694-5562-45d8-9447-53ded8890bb4",
        "colab": {
          "base_uri": "https://localhost:8080/",
          "height": 145
        }
      },
      "source": [
        "#print (type(images[\"Image\"][0]))\n",
        "pilimage_transform = transforms.ToPILImage ()\n",
        "image = pilimage_transform (images[\"Image\"][0])\n",
        "\n",
        "display (image)\n",
        "mask = pilimage_transform (images[\"Mask\"][0])\n",
        "display (mask)"
      ],
      "execution_count": 0,
      "outputs": [
        {
          "output_type": "display_data",
          "data": {
            "image/png": "[encoded data removed]",
            "text/plain": [
              "<PIL.Image.Image image mode=RGB size=64x64 at 0x7FF6CD155BE0>"
            ]
          },
          "metadata": {
            "tags": []
          }
        },
        {
          "output_type": "display_data",
          "data": {
            "image/png": "[encoded data removed]",
            "text/plain": [
              "<PIL.Image.Image image mode=L size=64x64 at 0x7FF6CD155A58>"
            ]
          },
          "metadata": {
            "tags": []
          }
        }
      ]
    },
    {
      "cell_type": "code",
      "metadata": {
        "id": "kP9qj8IgqUrI",
        "colab_type": "code",
        "colab": {}
      },
      "source": [
        "'''\n",
        "#!mkdir fg_bg_subset\n",
        "#!mkdir mask_bg_subset\n",
        "'''"
      ],
      "execution_count": 0,
      "outputs": []
    },
    {
      "cell_type": "code",
      "metadata": {
        "id": "5zHiJaHbqZCO",
        "colab_type": "code",
        "colab": {}
      },
      "source": [
        "'''\n",
        "#img_all = list(sorted(os.listdir(os.path.join(root_path, \"fg_bg_images\"))))\n",
        "#mask_all = list(sorted(os.listdir(os.path.join(root_path, \"mask_bg_images\"))))\n",
        "'''"
      ],
      "execution_count": 0,
      "outputs": []
    },
    {
      "cell_type": "code",
      "metadata": {
        "id": "AMb5Z55Cqvpy",
        "colab_type": "code",
        "colab": {}
      },
      "source": [
        "'''\n",
        "#for img in img_all[:100]:\n",
        "#  url = root_path + 'fg_bg_images/' + img\n",
        "#  !gsutil cp {url} /content/EVA4_Custom_Data/fg_bg_subset\n",
        "'''"
      ],
      "execution_count": 0,
      "outputs": []
    },
    {
      "cell_type": "code",
      "metadata": {
        "id": "RB3eztvIX4bC",
        "colab_type": "code",
        "colab": {}
      },
      "source": [
        "'''\n",
        "#for mask in mask_all[:100]:\n",
        "#  url = root_path + 'mask_bg_images/' + mask\n",
        "#  !gsutil cp {url} /content/EVA4_Custom_Data/mask_bg_subset\n",
        "'''"
      ],
      "execution_count": 0,
      "outputs": []
    },
    {
      "cell_type": "code",
      "metadata": {
        "id": "U_Z48GLTaDPc",
        "colab_type": "code",
        "outputId": "f30b8b2e-c71f-40c1-f106-858325229b52",
        "colab": {
          "base_uri": "https://localhost:8080/",
          "height": 55
        }
      },
      "source": [
        "'''\n",
        "from PIL import Image\n",
        "import tensorflow as tf\n",
        "\n",
        "\n",
        "img = Image.open('/content/EVA4_Custom_Data/fg_bg_subset/base_fg_img001_bg_img001_01.jpg')\n",
        "img_bg = Image.open('/content/EVA4_Custom_Data/bg_images/img001.jpg')\n",
        "mask = Image.open('/content/EVA4_Custom_Data/mask_bg_subset/base_mask_img001_bg_black_image_001_01.jpg')\n",
        "\n",
        "display(mask)\n",
        "\n",
        "mask = np.array(mask)\n",
        "transforn_to_tensor = transforms.ToTensor ()\n",
        "img = transforn_to_tensor(img)\n",
        "img_bg = transforn_to_tensor(img_bg)\n",
        "\n",
        "obj_ids = np.unique(mask)\n",
        "obj_ids = obj_ids[1:]\n",
        "masks = transforms.ToTensor()\n",
        "\n",
        "img_check = transforms.ToPILImage()\n",
        "\n",
        "\n",
        "'''"
      ],
      "execution_count": 0,
      "outputs": [
        {
          "output_type": "execute_result",
          "data": {
            "text/plain": [
              "\"\\nfrom PIL import Image\\nimport tensorflow as tf\\n\\n\\nimg = Image.open('/content/EVA4_Custom_Data/fg_bg_subset/base_fg_img001_bg_img001_01.jpg')\\nimg_bg = Image.open('/content/EVA4_Custom_Data/bg_images/img001.jpg')\\nmask = Image.open('/content/EVA4_Custom_Data/mask_bg_subset/base_mask_img001_bg_black_image_001_01.jpg')\\n\\ndisplay(mask)\\n\\nmask = np.array(mask)\\ntransforn_to_tensor = transforms.ToTensor ()\\nimg = transforn_to_tensor(img)\\nimg_bg = transforn_to_tensor(img_bg)\\n\\nobj_ids = np.unique(mask)\\nobj_ids = obj_ids[1:]\\nmasks = transforms.ToTensor()\\n\\nimg_check = transforms.ToPILImage()\\n\\n\\n\""
            ]
          },
          "metadata": {
            "tags": []
          },
          "execution_count": 20
        }
      ]
    },
    {
      "cell_type": "code",
      "metadata": {
        "id": "7yY3wHhCBDXK",
        "colab_type": "code",
        "outputId": "01634995-09a8-4290-965e-7a13436eac9d",
        "colab": {
          "base_uri": "https://localhost:8080/",
          "height": 34
        }
      },
      "source": [
        "cd /content"
      ],
      "execution_count": 0,
      "outputs": [
        {
          "output_type": "stream",
          "text": [
            "/content\n"
          ],
          "name": "stdout"
        }
      ]
    },
    {
      "cell_type": "code",
      "metadata": {
        "id": "pVlEUhTO_ICg",
        "colab_type": "code",
        "outputId": "e3b97a7e-588d-416f-a2f7-e37eb299ce4a",
        "colab": {
          "base_uri": "https://localhost:8080/",
          "height": 468
        }
      },
      "source": [
        "images = iter(dataset_loader).next()\n",
        "print (images[\"Mask\"][0].shape)\n",
        "print (images[\"Image\"][0])\n",
        "# images.shape = ( 32, 3, 80, 80)\n",
        "numpy_images = images[\"Image\"].numpy()\n",
        "\n",
        "pop_channel_std = np.std(numpy_images, axis=(0, 2, 3))\n",
        "pop_channel_mean = np.mean(numpy_images, axis=(0, 2, 3))\n",
        "\n",
        "print (pop_channel_mean)\n",
        "print (pop_channel_std)"
      ],
      "execution_count": 0,
      "outputs": [
        {
          "output_type": "stream",
          "text": [
            "torch.Size([1, 24, 24])\n",
            "tensor([[[0.0078, 0.0078, 0.0078,  ..., 0.1804, 0.1804, 0.1804],\n",
            "         [0.0118, 0.0118, 0.0078,  ..., 0.1882, 0.1882, 0.1882],\n",
            "         [0.0235, 0.0235, 0.0196,  ..., 0.1922, 0.1922, 0.1922],\n",
            "         ...,\n",
            "         [0.6353, 0.6353, 0.6353,  ..., 0.3451, 0.2000, 0.0471],\n",
            "         [0.5882, 0.5647, 0.5569,  ..., 0.1922, 0.1098, 0.0549],\n",
            "         [0.4275, 0.4471, 0.4353,  ..., 0.3020, 0.3843, 0.3529]],\n",
            "\n",
            "        [[0.4824, 0.4824, 0.4824,  ..., 0.4902, 0.4902, 0.4902],\n",
            "         [0.4902, 0.4902, 0.4863,  ..., 0.4980, 0.4980, 0.4980],\n",
            "         [0.4941, 0.4941, 0.4941,  ..., 0.5020, 0.5020, 0.5020],\n",
            "         ...,\n",
            "         [0.6000, 0.6000, 0.5961,  ..., 0.1725, 0.1490, 0.1020],\n",
            "         [0.5647, 0.5451, 0.5451,  ..., 0.1294, 0.0784, 0.0902],\n",
            "         [0.4118, 0.4392, 0.4353,  ..., 0.2706, 0.3098, 0.2745]],\n",
            "\n",
            "        [[0.7922, 0.7922, 0.7922,  ..., 0.8000, 0.8000, 0.8000],\n",
            "         [0.7961, 0.7961, 0.7922,  ..., 0.8078, 0.8078, 0.8078],\n",
            "         [0.7961, 0.7961, 0.7922,  ..., 0.8118, 0.8118, 0.8118],\n",
            "         ...,\n",
            "         [0.6275, 0.6275, 0.6235,  ..., 0.1451, 0.0980, 0.0549],\n",
            "         [0.6000, 0.5843, 0.5882,  ..., 0.1059, 0.0510, 0.0510],\n",
            "         [0.4510, 0.4824, 0.4902,  ..., 0.2000, 0.2431, 0.2157]]])\n",
            "[0.562814  0.5644937 0.5667319]\n",
            "[0.23423661 0.22496194 0.24435855]\n"
          ],
          "name": "stdout"
        }
      ]
    },
    {
      "cell_type": "code",
      "metadata": {
        "id": "KleDmXk2A--e",
        "colab_type": "code",
        "outputId": "0c48268e-88bb-4f0b-f5f0-65b0908d6b16",
        "colab": {
          "base_uri": "https://localhost:8080/",
          "height": 306
        }
      },
      "source": [
        "%%shell\n",
        "\n",
        "# Download TorchVision repo to use some files from\n",
        "# references/detection\n",
        "git clone https://github.com/pytorch/vision.git\n",
        "cd vision\n",
        "git checkout v0.3.0\n",
        "\n",
        "cp references/detection/utils.py ../\n",
        "cp references/detection/transforms.py ../\n",
        "cp references/detection/coco_eval.py ../\n",
        "cp references/detection/engine.py ../\n",
        "cp references/detection/coco_utils.py ../"
      ],
      "execution_count": 0,
      "outputs": [
        {
          "output_type": "stream",
          "text": [
            "Cloning into 'vision'...\n",
            "remote: Enumerating objects: 8480, done.\u001b[K\n",
            "remote: Total 8480 (delta 0), reused 0 (delta 0), pack-reused 8480\u001b[K\n",
            "Receiving objects: 100% (8480/8480), 10.30 MiB | 4.51 MiB/s, done.\n",
            "Resolving deltas: 100% (5846/5846), done.\n",
            "Note: checking out 'v0.3.0'.\n",
            "\n",
            "You are in 'detached HEAD' state. You can look around, make experimental\n",
            "changes and commit them, and you can discard any commits you make in this\n",
            "state without impacting any branches by performing another checkout.\n",
            "\n",
            "If you want to create a new branch to retain commits you create, you may\n",
            "do so (now or later) by using -b with the checkout command again. Example:\n",
            "\n",
            "  git checkout -b <new-branch-name>\n",
            "\n",
            "HEAD is now at be37608 version check against PyTorch's CUDA version\n"
          ],
          "name": "stdout"
        },
        {
          "output_type": "execute_result",
          "data": {
            "text/plain": [
              ""
            ]
          },
          "metadata": {
            "tags": []
          },
          "execution_count": 39
        }
      ]
    },
    {
      "cell_type": "code",
      "metadata": {
        "id": "bFp65TVvn3ib",
        "colab_type": "code",
        "colab": {}
      },
      "source": [
        "class OfficeDataset(object):\n",
        "    def __init__(self, root, transforms):\n",
        "        self.root = root\n",
        "        self.transforms = transforms\n",
        "        # load all image files, sorting them to\n",
        "        # ensure that they are aligned\n",
        "        self.imgs = list(sorted(os.listdir(os.path.join(root, \"fg_bg_subset\"))))\n",
        "        self.masks = list(sorted(os.listdir(os.path.join(root, \"mask_bg_subset\"))))\n",
        "\n",
        "    def __getitem__(self, idx):\n",
        "        # load images ad masks\n",
        "        img_path = os.path.join(self.root, \"fg_bg_subset\", self.imgs[idx])\n",
        "        mask_path = os.path.join(self.root, \"mask_bg_subset\", self.masks[idx])\n",
        "        img = Image.open(img_path).convert(\"RGB\")\n",
        "        # note that we haven't converted the mask to RGB,\n",
        "        # because each color corresponds to a different instance\n",
        "        # with 0 being background\n",
        "        mask = Image.open(mask_path)\n",
        "\n",
        "        target = mask\n",
        "        \n",
        "        if self.transforms is not None:\n",
        "            img, target = self.transforms(img, target)\n",
        "\n",
        "        return img, target\n",
        "\n",
        "    def __len__(self):\n",
        "        return len(self.imgs)"
      ],
      "execution_count": 0,
      "outputs": []
    },
    {
      "cell_type": "code",
      "metadata": {
        "id": "7sAPulVRCvfr",
        "colab_type": "code",
        "colab": {}
      },
      "source": [
        "from torchvision.transforms import functional as transform_f\n",
        "\n",
        "class Compose(object):\n",
        "    def __init__(self, transforms):\n",
        "        self.transforms = transforms\n",
        "\n",
        "    def __call__(self, image, target):\n",
        "        for t in self.transforms:\n",
        "            image, target = t(image, target)\n",
        "        return image, target\n",
        "\n",
        "\n",
        "class RandomHorizontalFlip(object):\n",
        "    def __init__(self, prob):\n",
        "        self.prob = prob\n",
        "\n",
        "    def __call__(self, image, target):\n",
        "        if random.random() < self.prob:\n",
        "            height, width = image.shape[-2:]\n",
        "            image = image.flip(-1)\n",
        "            \n",
        "            height_mask, width_mask = target.shape[-2:]\n",
        "            target = target.flip(-1)\n",
        "\n",
        "        return image, target\n",
        "\n",
        "\n",
        "class ToTensor(object):\n",
        "    def __call__(self, image, target):\n",
        "        image = transform_f.to_tensor(image)\n",
        "        target = transform_f.to_tensor(target)\n",
        "        return image, target\n"
      ],
      "execution_count": 0,
      "outputs": []
    },
    {
      "cell_type": "code",
      "metadata": {
        "id": "H5MDzum36Yv3",
        "colab_type": "code",
        "colab": {}
      },
      "source": [
        "def get_transform(train):\n",
        "    transforms = []\n",
        "    # converts the image, a PIL image, into a PyTorch Tensor\n",
        "    transforms.append(ToTensor())\n",
        "    if train:\n",
        "        # during training, randomly flip the training images\n",
        "        # and ground-truth for data augmentation\n",
        "        transforms.append(RandomHorizontalFlip(0.5))\n",
        "    return T.Compose(transforms)"
      ],
      "execution_count": 0,
      "outputs": []
    },
    {
      "cell_type": "code",
      "metadata": {
        "id": "VdsWPy6-4hrs",
        "colab_type": "code",
        "outputId": "e960e1b3-86a8-4118-fe81-141db6cf03d1",
        "colab": {
          "base_uri": "https://localhost:8080/",
          "height": 34
        }
      },
      "source": [
        "dataset = OfficeDataset(root = '/content/EVA4_Custom_Data/', transforms = None)\n",
        "dataset[3]\n",
        "print (len (dataset))"
      ],
      "execution_count": 0,
      "outputs": [
        {
          "output_type": "stream",
          "text": [
            "100\n"
          ],
          "name": "stdout"
        }
      ]
    },
    {
      "cell_type": "code",
      "metadata": {
        "id": "ShjhnDAU5Poc",
        "colab_type": "code",
        "colab": {}
      },
      "source": [
        "data_transform = transforms.Compose([\n",
        "        #transforms.RandomCrop (16),\n",
        "        transforms.RandomRotation(5),\n",
        "        #transforms.RandomHorizontalFlip(),\n",
        "        transforms.ToTensor(),\n",
        "        transforms.Normalize(mean=[0.4770698,  0.44741154, 0.3993873 ],\n",
        "                           std=[0.27973273, 0.27094352, 0.28073433])\n",
        "    ])\n"
      ],
      "execution_count": 0,
      "outputs": []
    },
    {
      "cell_type": "code",
      "metadata": {
        "id": "qronRgAs5UsL",
        "colab_type": "code",
        "outputId": "12105db8-a2d1-4ffd-c234-caa4ee17e2c1",
        "colab": {
          "base_uri": "https://localhost:8080/",
          "height": 323
        }
      },
      "source": [
        "dataset = OfficeDataset(root = '/content/EVA4_Custom_Data/', transforms = data_transform)\n",
        "dataset_test = OfficeDataset(root = '/content/EVA4_Custom_Data/', transforms = data_transform)\n",
        "\n",
        "dataset[0]"
      ],
      "execution_count": 0,
      "outputs": [
        {
          "output_type": "error",
          "ename": "TypeError",
          "evalue": "ignored",
          "traceback": [
            "\u001b[0;31m---------------------------------------------------------------------------\u001b[0m",
            "\u001b[0;31mTypeError\u001b[0m                                 Traceback (most recent call last)",
            "\u001b[0;32m<ipython-input-34-1f5a0b43845f>\u001b[0m in \u001b[0;36m<module>\u001b[0;34m()\u001b[0m\n\u001b[1;32m      2\u001b[0m \u001b[0mdataset_test\u001b[0m \u001b[0;34m=\u001b[0m \u001b[0mOfficeDataset\u001b[0m\u001b[0;34m(\u001b[0m\u001b[0mroot\u001b[0m \u001b[0;34m=\u001b[0m \u001b[0;34m'/content/EVA4_Custom_Data/'\u001b[0m\u001b[0;34m,\u001b[0m \u001b[0mtransforms\u001b[0m \u001b[0;34m=\u001b[0m \u001b[0mdata_transform\u001b[0m\u001b[0;34m)\u001b[0m\u001b[0;34m\u001b[0m\u001b[0;34m\u001b[0m\u001b[0m\n\u001b[1;32m      3\u001b[0m \u001b[0;34m\u001b[0m\u001b[0m\n\u001b[0;32m----> 4\u001b[0;31m \u001b[0mdataset\u001b[0m\u001b[0;34m[\u001b[0m\u001b[0;36m0\u001b[0m\u001b[0;34m]\u001b[0m\u001b[0;34m\u001b[0m\u001b[0;34m\u001b[0m\u001b[0m\n\u001b[0m",
            "\u001b[0;32m<ipython-input-32-2803990766d4>\u001b[0m in \u001b[0;36m__getitem__\u001b[0;34m(self, idx)\u001b[0m\n\u001b[1;32m     26\u001b[0m         \u001b[0;32mif\u001b[0m \u001b[0mself\u001b[0m\u001b[0;34m.\u001b[0m\u001b[0mtransforms\u001b[0m \u001b[0;32mis\u001b[0m \u001b[0;32mnot\u001b[0m \u001b[0;32mNone\u001b[0m\u001b[0;34m:\u001b[0m\u001b[0;34m\u001b[0m\u001b[0;34m\u001b[0m\u001b[0m\n\u001b[1;32m     27\u001b[0m             \u001b[0mimg\u001b[0m \u001b[0;34m=\u001b[0m \u001b[0mself\u001b[0m\u001b[0;34m.\u001b[0m\u001b[0mtransforms\u001b[0m\u001b[0;34m(\u001b[0m\u001b[0mimg\u001b[0m\u001b[0;34m)\u001b[0m\u001b[0;34m\u001b[0m\u001b[0;34m\u001b[0m\u001b[0m\n\u001b[0;32m---> 28\u001b[0;31m             \u001b[0mmask\u001b[0m \u001b[0;34m=\u001b[0m \u001b[0mself\u001b[0m\u001b[0;34m.\u001b[0m\u001b[0mresize_transforms\u001b[0m \u001b[0;34m(\u001b[0m\u001b[0mmask\u001b[0m\u001b[0;34m)\u001b[0m\u001b[0;34m\u001b[0m\u001b[0;34m\u001b[0m\u001b[0m\n\u001b[0m\u001b[1;32m     29\u001b[0m \u001b[0;34m\u001b[0m\u001b[0m\n\u001b[1;32m     30\u001b[0m         \u001b[0mimg_data\u001b[0m \u001b[0;34m=\u001b[0m \u001b[0;34m{\u001b[0m\u001b[0;34m\"Image\"\u001b[0m\u001b[0;34m:\u001b[0m \u001b[0mimg\u001b[0m\u001b[0;34m,\u001b[0m \u001b[0;34m\"Mask\"\u001b[0m\u001b[0;34m:\u001b[0m \u001b[0mmask\u001b[0m\u001b[0;34m}\u001b[0m\u001b[0;34m\u001b[0m\u001b[0;34m\u001b[0m\u001b[0m\n",
            "\u001b[0;31mTypeError\u001b[0m: resize_transforms() takes 1 positional argument but 2 were given"
          ]
        }
      ]
    },
    {
      "cell_type": "code",
      "metadata": {
        "id": "N20-NsDbEvPK",
        "colab_type": "code",
        "outputId": "78d15f91-e729-4bca-f8e3-adcd42194e1c",
        "colab": {
          "base_uri": "https://localhost:8080/",
          "height": 181
        }
      },
      "source": [
        "dataset_loader = torch.utils.data.DataLoader (dataset, batch_size=12, shuffle=True, num_workers=4)\n",
        "test_dataset_loader = torch.utils.data.DataLoader (dataset_test, batch_size=12, shuffle=False, num_workers=4)"
      ],
      "execution_count": 0,
      "outputs": [
        {
          "output_type": "error",
          "ename": "NameError",
          "evalue": "ignored",
          "traceback": [
            "\u001b[0;31m---------------------------------------------------------------------------\u001b[0m",
            "\u001b[0;31mNameError\u001b[0m                                 Traceback (most recent call last)",
            "\u001b[0;32m<ipython-input-34-d9cb6d729278>\u001b[0m in \u001b[0;36m<module>\u001b[0;34m()\u001b[0m\n\u001b[1;32m      1\u001b[0m \u001b[0mdataset_loader\u001b[0m \u001b[0;34m=\u001b[0m \u001b[0mtorch\u001b[0m\u001b[0;34m.\u001b[0m\u001b[0mutils\u001b[0m\u001b[0;34m.\u001b[0m\u001b[0mdata\u001b[0m\u001b[0;34m.\u001b[0m\u001b[0mDataLoader\u001b[0m \u001b[0;34m(\u001b[0m\u001b[0mdataset\u001b[0m\u001b[0;34m,\u001b[0m \u001b[0mbatch_size\u001b[0m\u001b[0;34m=\u001b[0m\u001b[0;36m12\u001b[0m\u001b[0;34m,\u001b[0m \u001b[0mshuffle\u001b[0m\u001b[0;34m=\u001b[0m\u001b[0;32mTrue\u001b[0m\u001b[0;34m,\u001b[0m \u001b[0mnum_workers\u001b[0m\u001b[0;34m=\u001b[0m\u001b[0;36m4\u001b[0m\u001b[0;34m)\u001b[0m\u001b[0;34m\u001b[0m\u001b[0;34m\u001b[0m\u001b[0m\n\u001b[0;32m----> 2\u001b[0;31m \u001b[0mtest_dataset_loader\u001b[0m \u001b[0;34m=\u001b[0m \u001b[0mtorch\u001b[0m\u001b[0;34m.\u001b[0m\u001b[0mutils\u001b[0m\u001b[0;34m.\u001b[0m\u001b[0mdata\u001b[0m\u001b[0;34m.\u001b[0m\u001b[0mDataLoader\u001b[0m \u001b[0;34m(\u001b[0m\u001b[0mdataset_test\u001b[0m\u001b[0;34m,\u001b[0m \u001b[0mbatch_size\u001b[0m\u001b[0;34m=\u001b[0m\u001b[0;36m12\u001b[0m\u001b[0;34m,\u001b[0m \u001b[0mshuffle\u001b[0m\u001b[0;34m=\u001b[0m\u001b[0;32mFalse\u001b[0m\u001b[0;34m,\u001b[0m \u001b[0mnum_workers\u001b[0m\u001b[0;34m=\u001b[0m\u001b[0;36m4\u001b[0m\u001b[0;34m)\u001b[0m\u001b[0;34m\u001b[0m\u001b[0;34m\u001b[0m\u001b[0m\n\u001b[0m",
            "\u001b[0;31mNameError\u001b[0m: name 'dataset_test' is not defined"
          ]
        }
      ]
    },
    {
      "cell_type": "code",
      "metadata": {
        "id": "jT_zD_pmFAcW",
        "colab_type": "code",
        "outputId": "68513367-b312-4127-ce0e-b44e822e9e05",
        "colab": {
          "base_uri": "https://localhost:8080/",
          "height": 442
        }
      },
      "source": [
        "images, targets = iter(dataset_loader).next()\n",
        "#print (images[0])\n",
        "print (targets[0])\n",
        "# images.shape = ( 32, 3, 80, 80)\n",
        "numpy_images = images.numpy()\n",
        "\n",
        "\n",
        "\n",
        "pop_channel_std = np.std(numpy_images, axis=(0, 2, 3))\n",
        "pop_channel_mean = np.mean(numpy_images, axis=(0, 2, 3))\n",
        "\n",
        "print (pop_channel_mean)\n",
        "print (pop_channel_std)"
      ],
      "execution_count": 0,
      "outputs": [
        {
          "output_type": "stream",
          "text": [
            "tensor([[[0., 0., 0.,  ..., 0., 0., 0.],\n",
            "         [0., 0., 0.,  ..., 0., 0., 0.],\n",
            "         [0., 0., 0.,  ..., 0., 0., 0.],\n",
            "         ...,\n",
            "         [0., 0., 0.,  ..., 0., 0., 0.],\n",
            "         [0., 0., 0.,  ..., 0., 0., 0.],\n",
            "         [0., 0., 0.,  ..., 0., 0., 0.]],\n",
            "\n",
            "        [[0., 0., 0.,  ..., 0., 0., 0.],\n",
            "         [0., 0., 0.,  ..., 0., 0., 0.],\n",
            "         [0., 0., 0.,  ..., 0., 0., 0.],\n",
            "         ...,\n",
            "         [0., 0., 0.,  ..., 0., 0., 0.],\n",
            "         [0., 0., 0.,  ..., 0., 0., 0.],\n",
            "         [0., 0., 0.,  ..., 0., 0., 0.]],\n",
            "\n",
            "        [[0., 0., 0.,  ..., 0., 0., 0.],\n",
            "         [0., 0., 0.,  ..., 0., 0., 0.],\n",
            "         [0., 0., 0.,  ..., 0., 0., 0.],\n",
            "         ...,\n",
            "         [0., 0., 0.,  ..., 0., 0., 0.],\n",
            "         [0., 0., 0.,  ..., 0., 0., 0.],\n",
            "         [0., 0., 0.,  ..., 0., 0., 0.]]])\n",
            "[0.598836   0.64986354 0.6657431 ]\n",
            "[0.26040068 0.2488874  0.26616424]\n"
          ],
          "name": "stdout"
        }
      ]
    },
    {
      "cell_type": "code",
      "metadata": {
        "id": "RvGjieWCQqWN",
        "colab_type": "code",
        "outputId": "f1d391bb-b92b-490f-add2-53f5b17af560",
        "colab": {
          "base_uri": "https://localhost:8080/",
          "height": 52
        }
      },
      "source": [
        "train_data = []\n",
        "train_labels = []\n",
        "\n",
        "\n",
        "print (len(train_data))\n",
        "print (train_labels[0])"
      ],
      "execution_count": 0,
      "outputs": [
        {
          "output_type": "stream",
          "text": [
            "100000\n",
            "n02124075\n"
          ],
          "name": "stdout"
        }
      ]
    },
    {
      "cell_type": "code",
      "metadata": {
        "id": "yciXz6aXQwA-",
        "colab_type": "code",
        "outputId": "c995d93c-b43d-47f1-cf95-04f4f160fc78",
        "colab": {
          "base_uri": "https://localhost:8080/",
          "height": 52
        }
      },
      "source": [
        "val_data = []\n",
        "val_labels = []\n",
        "\n",
        "url = root_path + 'val'\n",
        "\n",
        "file = open(url + \"/val_annotations.txt\", \"r\")\n",
        "\n",
        "for line in file:\n",
        "  line_desc = line.strip().split(\"\\t\")\n",
        "  val_data.append (plt.imread(url+\"/images/{}\".format(line_desc[0]), 'RGB'))\n",
        "  val_labels.append (line_desc[1])\n",
        "\n",
        "file.close()\n",
        "\n",
        "print (len(val_data))\n",
        "print (val_labels[0])"
      ],
      "execution_count": 0,
      "outputs": [
        {
          "output_type": "stream",
          "text": [
            "10000\n",
            "n03444034\n"
          ],
          "name": "stdout"
        }
      ]
    },
    {
      "cell_type": "code",
      "metadata": {
        "id": "22AyCZV2W_xl",
        "colab_type": "code",
        "outputId": "4d7902d4-4316-4e3b-fcb4-ae620badc2f8",
        "colab": {
          "base_uri": "https://localhost:8080/",
          "height": 412
        }
      },
      "source": [
        "data_transform = transforms.Compose([\n",
        "        #transforms.RandomCrop (16),\n",
        "        transforms.RandomRotation(5),\n",
        "        #transforms.RandomHorizontalFlip(),\n",
        "        transforms.ToTensor(),\n",
        "        transforms.Normalize(mean=[0.4770698,  0.44741154, 0.3993873 ],\n",
        "                           std=[0.27973273, 0.27094352, 0.28073433])\n",
        "    ])\n",
        "\n",
        "#test_data_transform = transforms.Compose([\n",
        "        #transforms.ToPILImage(),\n",
        "#        transforms.ToTensor(),\n",
        "#        transforms.Normalize(mean=[0.4770698,  0.44741154, 0.3993873 ],\n",
        "#                           std=[0.27973273, 0.27094352, 0.28073433])\n",
        "#    ])\n",
        "\n",
        "train_data_subset = datasets.ImageFolder(root=root_path + 'fg_bg_subset/',\n",
        "                                           transform=data_transform)\n",
        "\n",
        "\n",
        "#dataset_loader = torch.utils.data.DataLoader(tinyimagenet_train_dataset,\n",
        "#                                             batch_size=512, shuffle=True,\n",
        "#                                             num_workers=4)\n",
        "\n",
        "#tinyimagenet_test_dataset = datasets.ImageFolder (root = root_path + 'val', transform = test_data_transform)\n",
        "#test_dataset_loader = torch.utils.data.DataLoader (tinyimagenet_test_dataset, batch_size=512, shuffle=False, num_workers=4)"
      ],
      "execution_count": 0,
      "outputs": [
        {
          "output_type": "error",
          "ename": "RuntimeError",
          "evalue": "ignored",
          "traceback": [
            "\u001b[0;31m---------------------------------------------------------------------------\u001b[0m",
            "\u001b[0;31mRuntimeError\u001b[0m                              Traceback (most recent call last)",
            "\u001b[0;32m<ipython-input-46-774041713483>\u001b[0m in \u001b[0;36m<module>\u001b[0;34m()\u001b[0m\n\u001b[1;32m     16\u001b[0m \u001b[0;34m\u001b[0m\u001b[0m\n\u001b[1;32m     17\u001b[0m train_data_subset = datasets.ImageFolder(root=root_path + 'fg_bg_subset/',\n\u001b[0;32m---> 18\u001b[0;31m                                            transform=data_transform)\n\u001b[0m\u001b[1;32m     19\u001b[0m \u001b[0;34m\u001b[0m\u001b[0m\n\u001b[1;32m     20\u001b[0m \u001b[0;34m\u001b[0m\u001b[0m\n",
            "\u001b[0;32m/usr/local/lib/python3.6/dist-packages/torchvision/datasets/folder.py\u001b[0m in \u001b[0;36m__init__\u001b[0;34m(self, root, transform, target_transform, loader, is_valid_file)\u001b[0m\n\u001b[1;32m    204\u001b[0m                                           \u001b[0mtransform\u001b[0m\u001b[0;34m=\u001b[0m\u001b[0mtransform\u001b[0m\u001b[0;34m,\u001b[0m\u001b[0;34m\u001b[0m\u001b[0;34m\u001b[0m\u001b[0m\n\u001b[1;32m    205\u001b[0m                                           \u001b[0mtarget_transform\u001b[0m\u001b[0;34m=\u001b[0m\u001b[0mtarget_transform\u001b[0m\u001b[0;34m,\u001b[0m\u001b[0;34m\u001b[0m\u001b[0;34m\u001b[0m\u001b[0m\n\u001b[0;32m--> 206\u001b[0;31m                                           is_valid_file=is_valid_file)\n\u001b[0m\u001b[1;32m    207\u001b[0m         \u001b[0mself\u001b[0m\u001b[0;34m.\u001b[0m\u001b[0mimgs\u001b[0m \u001b[0;34m=\u001b[0m \u001b[0mself\u001b[0m\u001b[0;34m.\u001b[0m\u001b[0msamples\u001b[0m\u001b[0;34m\u001b[0m\u001b[0;34m\u001b[0m\u001b[0m\n",
            "\u001b[0;32m/usr/local/lib/python3.6/dist-packages/torchvision/datasets/folder.py\u001b[0m in \u001b[0;36m__init__\u001b[0;34m(self, root, loader, extensions, transform, target_transform, is_valid_file)\u001b[0m\n\u001b[1;32m     96\u001b[0m         \u001b[0;32mif\u001b[0m \u001b[0mlen\u001b[0m\u001b[0;34m(\u001b[0m\u001b[0msamples\u001b[0m\u001b[0;34m)\u001b[0m \u001b[0;34m==\u001b[0m \u001b[0;36m0\u001b[0m\u001b[0;34m:\u001b[0m\u001b[0;34m\u001b[0m\u001b[0;34m\u001b[0m\u001b[0m\n\u001b[1;32m     97\u001b[0m             raise (RuntimeError(\"Found 0 files in subfolders of: \" + self.root + \"\\n\"\n\u001b[0;32m---> 98\u001b[0;31m                                 \"Supported extensions are: \" + \",\".join(extensions)))\n\u001b[0m\u001b[1;32m     99\u001b[0m \u001b[0;34m\u001b[0m\u001b[0m\n\u001b[1;32m    100\u001b[0m         \u001b[0mself\u001b[0m\u001b[0;34m.\u001b[0m\u001b[0mloader\u001b[0m \u001b[0;34m=\u001b[0m \u001b[0mloader\u001b[0m\u001b[0;34m\u001b[0m\u001b[0;34m\u001b[0m\u001b[0m\n",
            "\u001b[0;31mRuntimeError\u001b[0m: Found 0 files in subfolders of: /content/EVA4_Custom_Data/fg_bg_subset/\nSupported extensions are: .jpg,.jpeg,.png,.ppm,.bmp,.pgm,.tif,.tiff,.webp"
          ]
        }
      ]
    },
    {
      "cell_type": "code",
      "metadata": {
        "id": "WxI1zVs0uitm",
        "colab_type": "code",
        "outputId": "dc0ea313-d80e-4769-c1bc-a1d74af8723d",
        "colab": {
          "base_uri": "https://localhost:8080/",
          "height": 55
        }
      },
      "source": [
        "\"\"\"\n",
        "validation_split = 0.3\n",
        "random_seed = 1\n",
        "\n",
        "dataset_size = len(tinyimagenet_train_dataset)\n",
        "indices = list(range(dataset_size))\n",
        "split = int(np.floor(validation_split * dataset_size))\n",
        "\n",
        "print (dataset_size)\n",
        "print (split)\n",
        "\n",
        "np.random.seed(random_seed)\n",
        "np.random.shuffle(indices)\n",
        "train_indices, val_indices = indices[split:], indices[:split]\n",
        "\n",
        "# Creating PT data samplers and loaders:\n",
        "train_sampler = SubsetRandomSampler(train_indices)\n",
        "valid_sampler = SubsetRandomSampler(val_indices)\n",
        "\n",
        "print (len(val_indices))\n",
        "\n",
        "dataset_loader = torch.utils.data.DataLoader(tinyimagenet_train_dataset, batch_size=512, \n",
        "                                           sampler=train_sampler)\n",
        "test_dataset_loader = torch.utils.data.DataLoader(tinyimagenet_train_dataset, batch_size=512,\n",
        "                                                sampler=valid_sampler)\n",
        "\n",
        "print (len(dataset_loader))\n",
        "\"\"\""
      ],
      "execution_count": 0,
      "outputs": [
        {
          "output_type": "execute_result",
          "data": {
            "text/plain": [
              "'\\nvalidation_split = 0.3\\nrandom_seed = 1\\n\\ndataset_size = len(tinyimagenet_train_dataset)\\nindices = list(range(dataset_size))\\nsplit = int(np.floor(validation_split * dataset_size))\\n\\nprint (dataset_size)\\nprint (split)\\n\\nnp.random.seed(random_seed)\\nnp.random.shuffle(indices)\\ntrain_indices, val_indices = indices[split:], indices[:split]\\n\\n# Creating PT data samplers and loaders:\\ntrain_sampler = SubsetRandomSampler(train_indices)\\nvalid_sampler = SubsetRandomSampler(val_indices)\\n\\nprint (len(val_indices))\\n\\ndataset_loader = torch.utils.data.DataLoader(tinyimagenet_train_dataset, batch_size=512, \\n                                           sampler=train_sampler)\\ntest_dataset_loader = torch.utils.data.DataLoader(tinyimagenet_train_dataset, batch_size=512,\\n                                                sampler=valid_sampler)\\n\\nprint (len(dataset_loader))\\n'"
            ]
          },
          "metadata": {
            "tags": []
          },
          "execution_count": 13
        }
      ]
    },
    {
      "cell_type": "code",
      "metadata": {
        "id": "bzI47xhj5Nai",
        "colab_type": "code",
        "outputId": "685ec0d7-dd67-4934-fa3c-a32b915a5a4f",
        "colab": {
          "base_uri": "https://localhost:8080/",
          "height": 343
        }
      },
      "source": [
        "train_set, val_set = torch.utils.data.random_split(tinyimagenet_train_dataset, [int(0.7*(len(tinyimagenet_train_dataset))), int(0.3*(len(tinyimagenet_train_dataset)))])\n",
        "\n",
        "dataset_loader = torch.utils.data.DataLoader (train_set, batch_size=512, shuffle=True, num_workers=4)\n",
        "test_dataset_loader = torch.utils.data.DataLoader (val_set, batch_size=512, shuffle=False, num_workers=4)"
      ],
      "execution_count": 0,
      "outputs": [
        {
          "output_type": "error",
          "ename": "TypeError",
          "evalue": "ignored",
          "traceback": [
            "\u001b[0;31m---------------------------------------------------------------------------\u001b[0m",
            "\u001b[0;31mTypeError\u001b[0m                                 Traceback (most recent call last)",
            "\u001b[0;32m<ipython-input-17-b8b0919f5048>\u001b[0m in \u001b[0;36m<module>\u001b[0;34m()\u001b[0m\n\u001b[0;32m----> 1\u001b[0;31m \u001b[0mtrain_set\u001b[0m\u001b[0;34m,\u001b[0m \u001b[0mval_set\u001b[0m \u001b[0;34m=\u001b[0m \u001b[0mtorch\u001b[0m\u001b[0;34m.\u001b[0m\u001b[0mutils\u001b[0m\u001b[0;34m.\u001b[0m\u001b[0mdata\u001b[0m\u001b[0;34m.\u001b[0m\u001b[0mrandom_split\u001b[0m\u001b[0;34m(\u001b[0m\u001b[0mtinyimagenet_train_dataset\u001b[0m\u001b[0;34m,\u001b[0m \u001b[0;34m[\u001b[0m\u001b[0;36m0.7\u001b[0m\u001b[0;34m*\u001b[0m\u001b[0;34m(\u001b[0m\u001b[0mlen\u001b[0m\u001b[0;34m(\u001b[0m\u001b[0mtinyimagenet_train_dataset\u001b[0m\u001b[0;34m)\u001b[0m\u001b[0;34m)\u001b[0m\u001b[0;34m,\u001b[0m \u001b[0;36m0.3\u001b[0m\u001b[0;34m*\u001b[0m\u001b[0;34m(\u001b[0m\u001b[0mlen\u001b[0m\u001b[0;34m(\u001b[0m\u001b[0mtinyimagenet_train_dataset\u001b[0m\u001b[0;34m)\u001b[0m\u001b[0;34m)\u001b[0m\u001b[0;34m]\u001b[0m\u001b[0;34m)\u001b[0m\u001b[0;34m\u001b[0m\u001b[0;34m\u001b[0m\u001b[0m\n\u001b[0m\u001b[1;32m      2\u001b[0m \u001b[0;34m\u001b[0m\u001b[0m\n\u001b[1;32m      3\u001b[0m \u001b[0mdataset_loader\u001b[0m \u001b[0;34m=\u001b[0m \u001b[0mtorch\u001b[0m\u001b[0;34m.\u001b[0m\u001b[0mutils\u001b[0m\u001b[0;34m.\u001b[0m\u001b[0mdata\u001b[0m\u001b[0;34m.\u001b[0m\u001b[0mDataLoader\u001b[0m \u001b[0;34m(\u001b[0m\u001b[0mtrain_set\u001b[0m\u001b[0;34m,\u001b[0m \u001b[0mbatch_size\u001b[0m\u001b[0;34m=\u001b[0m\u001b[0;36m512\u001b[0m\u001b[0;34m,\u001b[0m \u001b[0mshuffle\u001b[0m\u001b[0;34m=\u001b[0m\u001b[0;32mTrue\u001b[0m\u001b[0;34m,\u001b[0m \u001b[0mnum_workers\u001b[0m\u001b[0;34m=\u001b[0m\u001b[0;36m4\u001b[0m\u001b[0;34m)\u001b[0m\u001b[0;34m\u001b[0m\u001b[0;34m\u001b[0m\u001b[0m\n\u001b[1;32m      4\u001b[0m \u001b[0mtest_dataset_loader\u001b[0m \u001b[0;34m=\u001b[0m \u001b[0mtorch\u001b[0m\u001b[0;34m.\u001b[0m\u001b[0mutils\u001b[0m\u001b[0;34m.\u001b[0m\u001b[0mdata\u001b[0m\u001b[0;34m.\u001b[0m\u001b[0mDataLoader\u001b[0m \u001b[0;34m(\u001b[0m\u001b[0mval_set\u001b[0m\u001b[0;34m,\u001b[0m \u001b[0mbatch_size\u001b[0m\u001b[0;34m=\u001b[0m\u001b[0;36m512\u001b[0m\u001b[0;34m,\u001b[0m \u001b[0mshuffle\u001b[0m\u001b[0;34m=\u001b[0m\u001b[0;32mFalse\u001b[0m\u001b[0;34m,\u001b[0m \u001b[0mnum_workers\u001b[0m\u001b[0;34m=\u001b[0m\u001b[0;36m4\u001b[0m\u001b[0;34m)\u001b[0m\u001b[0;34m\u001b[0m\u001b[0;34m\u001b[0m\u001b[0m\n",
            "\u001b[0;32m/usr/local/lib/python3.6/dist-packages/torch/utils/data/dataset.py\u001b[0m in \u001b[0;36mrandom_split\u001b[0;34m(dataset, lengths)\u001b[0m\n\u001b[1;32m    272\u001b[0m         \u001b[0;32mraise\u001b[0m \u001b[0mValueError\u001b[0m\u001b[0;34m(\u001b[0m\u001b[0;34m\"Sum of input lengths does not equal the length of the input dataset!\"\u001b[0m\u001b[0;34m)\u001b[0m\u001b[0;34m\u001b[0m\u001b[0;34m\u001b[0m\u001b[0m\n\u001b[1;32m    273\u001b[0m \u001b[0;34m\u001b[0m\u001b[0m\n\u001b[0;32m--> 274\u001b[0;31m     \u001b[0mindices\u001b[0m \u001b[0;34m=\u001b[0m \u001b[0mrandperm\u001b[0m\u001b[0;34m(\u001b[0m\u001b[0msum\u001b[0m\u001b[0;34m(\u001b[0m\u001b[0mlengths\u001b[0m\u001b[0;34m)\u001b[0m\u001b[0;34m)\u001b[0m\u001b[0;34m.\u001b[0m\u001b[0mtolist\u001b[0m\u001b[0;34m(\u001b[0m\u001b[0;34m)\u001b[0m\u001b[0;34m\u001b[0m\u001b[0;34m\u001b[0m\u001b[0m\n\u001b[0m\u001b[1;32m    275\u001b[0m     \u001b[0;32mreturn\u001b[0m \u001b[0;34m[\u001b[0m\u001b[0mSubset\u001b[0m\u001b[0;34m(\u001b[0m\u001b[0mdataset\u001b[0m\u001b[0;34m,\u001b[0m \u001b[0mindices\u001b[0m\u001b[0;34m[\u001b[0m\u001b[0moffset\u001b[0m \u001b[0;34m-\u001b[0m \u001b[0mlength\u001b[0m\u001b[0;34m:\u001b[0m\u001b[0moffset\u001b[0m\u001b[0;34m]\u001b[0m\u001b[0;34m)\u001b[0m \u001b[0;32mfor\u001b[0m \u001b[0moffset\u001b[0m\u001b[0;34m,\u001b[0m \u001b[0mlength\u001b[0m \u001b[0;32min\u001b[0m \u001b[0mzip\u001b[0m\u001b[0;34m(\u001b[0m\u001b[0m_accumulate\u001b[0m\u001b[0;34m(\u001b[0m\u001b[0mlengths\u001b[0m\u001b[0;34m)\u001b[0m\u001b[0;34m,\u001b[0m \u001b[0mlengths\u001b[0m\u001b[0;34m)\u001b[0m\u001b[0;34m]\u001b[0m\u001b[0;34m\u001b[0m\u001b[0;34m\u001b[0m\u001b[0m\n",
            "\u001b[0;31mTypeError\u001b[0m: randperm(): argument 'n' (position 1) must be int, not float"
          ]
        }
      ]
    },
    {
      "cell_type": "code",
      "metadata": {
        "id": "9i25n_gXXlrn",
        "colab_type": "code",
        "outputId": "10a82e77-2642-4f20-e6f6-ad22400d3831",
        "colab": {
          "base_uri": "https://localhost:8080/",
          "height": 89
        }
      },
      "source": [
        "print (len(tinyimagenet_train_dataset))\n",
        "print (tinyimagenet_train_dataset.samples[99999])\n",
        "print (tinyimagenet_train_dataset.class_to_idx)"
      ],
      "execution_count": 0,
      "outputs": [
        {
          "output_type": "stream",
          "text": [
            "100000\n",
            "('IMagenet/tiny-imagenet-200/train/n12267677/images/n12267677_99.JPEG', 199)\n",
            "{'n01443537': 0, 'n01629819': 1, 'n01641577': 2, 'n01644900': 3, 'n01698640': 4, 'n01742172': 5, 'n01768244': 6, 'n01770393': 7, 'n01774384': 8, 'n01774750': 9, 'n01784675': 10, 'n01855672': 11, 'n01882714': 12, 'n01910747': 13, 'n01917289': 14, 'n01944390': 15, 'n01945685': 16, 'n01950731': 17, 'n01983481': 18, 'n01984695': 19, 'n02002724': 20, 'n02056570': 21, 'n02058221': 22, 'n02074367': 23, 'n02085620': 24, 'n02094433': 25, 'n02099601': 26, 'n02099712': 27, 'n02106662': 28, 'n02113799': 29, 'n02123045': 30, 'n02123394': 31, 'n02124075': 32, 'n02125311': 33, 'n02129165': 34, 'n02132136': 35, 'n02165456': 36, 'n02190166': 37, 'n02206856': 38, 'n02226429': 39, 'n02231487': 40, 'n02233338': 41, 'n02236044': 42, 'n02268443': 43, 'n02279972': 44, 'n02281406': 45, 'n02321529': 46, 'n02364673': 47, 'n02395406': 48, 'n02403003': 49, 'n02410509': 50, 'n02415577': 51, 'n02423022': 52, 'n02437312': 53, 'n02480495': 54, 'n02481823': 55, 'n02486410': 56, 'n02504458': 57, 'n02509815': 58, 'n02666196': 59, 'n02669723': 60, 'n02699494': 61, 'n02730930': 62, 'n02769748': 63, 'n02788148': 64, 'n02791270': 65, 'n02793495': 66, 'n02795169': 67, 'n02802426': 68, 'n02808440': 69, 'n02814533': 70, 'n02814860': 71, 'n02815834': 72, 'n02823428': 73, 'n02837789': 74, 'n02841315': 75, 'n02843684': 76, 'n02883205': 77, 'n02892201': 78, 'n02906734': 79, 'n02909870': 80, 'n02917067': 81, 'n02927161': 82, 'n02948072': 83, 'n02950826': 84, 'n02963159': 85, 'n02977058': 86, 'n02988304': 87, 'n02999410': 88, 'n03014705': 89, 'n03026506': 90, 'n03042490': 91, 'n03085013': 92, 'n03089624': 93, 'n03100240': 94, 'n03126707': 95, 'n03160309': 96, 'n03179701': 97, 'n03201208': 98, 'n03250847': 99, 'n03255030': 100, 'n03355925': 101, 'n03388043': 102, 'n03393912': 103, 'n03400231': 104, 'n03404251': 105, 'n03424325': 106, 'n03444034': 107, 'n03447447': 108, 'n03544143': 109, 'n03584254': 110, 'n03599486': 111, 'n03617480': 112, 'n03637318': 113, 'n03649909': 114, 'n03662601': 115, 'n03670208': 116, 'n03706229': 117, 'n03733131': 118, 'n03763968': 119, 'n03770439': 120, 'n03796401': 121, 'n03804744': 122, 'n03814639': 123, 'n03837869': 124, 'n03838899': 125, 'n03854065': 126, 'n03891332': 127, 'n03902125': 128, 'n03930313': 129, 'n03937543': 130, 'n03970156': 131, 'n03976657': 132, 'n03977966': 133, 'n03980874': 134, 'n03983396': 135, 'n03992509': 136, 'n04008634': 137, 'n04023962': 138, 'n04067472': 139, 'n04070727': 140, 'n04074963': 141, 'n04099969': 142, 'n04118538': 143, 'n04133789': 144, 'n04146614': 145, 'n04149813': 146, 'n04179913': 147, 'n04251144': 148, 'n04254777': 149, 'n04259630': 150, 'n04265275': 151, 'n04275548': 152, 'n04285008': 153, 'n04311004': 154, 'n04328186': 155, 'n04356056': 156, 'n04366367': 157, 'n04371430': 158, 'n04376876': 159, 'n04398044': 160, 'n04399382': 161, 'n04417672': 162, 'n04456115': 163, 'n04465501': 164, 'n04486054': 165, 'n04487081': 166, 'n04501370': 167, 'n04507155': 168, 'n04532106': 169, 'n04532670': 170, 'n04540053': 171, 'n04560804': 172, 'n04562935': 173, 'n04596742': 174, 'n04597913': 175, 'n06596364': 176, 'n07579787': 177, 'n07583066': 178, 'n07614500': 179, 'n07615774': 180, 'n07695742': 181, 'n07711569': 182, 'n07715103': 183, 'n07720875': 184, 'n07734744': 185, 'n07747607': 186, 'n07749582': 187, 'n07753592': 188, 'n07768694': 189, 'n07871810': 190, 'n07873807': 191, 'n07875152': 192, 'n07920052': 193, 'n09193705': 194, 'n09246464': 195, 'n09256479': 196, 'n09332890': 197, 'n09428293': 198, 'n12267677': 199}\n"
          ],
          "name": "stdout"
        }
      ]
    },
    {
      "cell_type": "code",
      "metadata": {
        "id": "WglwDHudA0dV",
        "colab_type": "code",
        "outputId": "135e28f3-692c-42d2-945d-56a04830939a",
        "colab": {
          "base_uri": "https://localhost:8080/",
          "height": 451
        }
      },
      "source": [
        "images, labels = iter(dataset_loader).next()\n",
        "print (images[0])\n",
        "# images.shape = ( 32, 3, 80, 80)\n",
        "numpy_images = images.numpy()\n",
        "\n",
        "\n",
        "\n",
        "pop_channel_std = np.std(numpy_images, axis=(0, 2, 3))\n",
        "pop_channel_mean = np.mean(numpy_images, axis=(0, 2, 3))\n",
        "\n",
        "print (pop_channel_mean)\n",
        "print (pop_channel_std)"
      ],
      "execution_count": 0,
      "outputs": [
        {
          "output_type": "stream",
          "text": [
            "tensor([[[-1.7054,  0.6497,  0.3834,  ..., -1.7054, -1.7054, -1.7054],\n",
            "         [-1.7054,  0.2712,  0.4535,  ...,  0.6638,  0.5937,  0.6357],\n",
            "         [-1.7054,  0.3834,  0.6778,  ...,  0.5796,  0.6077,  0.6497],\n",
            "         ...,\n",
            "         [ 0.4815,  0.5656,  0.4395,  ...,  0.7058,  0.8320, -1.7054],\n",
            "         [ 0.3834,  0.5796,  0.4675,  ...,  0.5376,  0.6497, -1.7054],\n",
            "         [-1.7054, -1.7054, -1.7054,  ...,  0.4114,  0.5236, -1.7054]],\n",
            "\n",
            "        [[-1.6513,  0.8092,  0.5342,  ..., -1.6513, -1.6513, -1.6513],\n",
            "         [-1.6513,  0.4184,  0.6066,  ...,  0.7948,  0.7224,  0.7658],\n",
            "         [-1.6513,  0.5342,  0.8382,  ...,  0.7079,  0.7369,  0.7803],\n",
            "         ...,\n",
            "         [ 0.6645,  0.7513,  0.6211,  ...,  0.8961,  1.0263, -1.6513],\n",
            "         [ 0.5632,  0.7658,  0.6500,  ...,  0.7224,  0.8382, -1.6513],\n",
            "         [-1.6513, -1.6513, -1.6513,  ...,  0.5921,  0.7079, -1.6513]],\n",
            "\n",
            "        [[-1.4227,  0.9102,  0.6448,  ..., -1.4227, -1.4227, -1.4227],\n",
            "         [-1.4227,  0.5330,  0.7146,  ...,  0.9102,  0.8403,  0.8822],\n",
            "         [-1.4227,  0.6448,  0.9381,  ...,  0.8264,  0.8543,  0.8962],\n",
            "         ...,\n",
            "         [ 0.7984,  0.8822,  0.7565,  ...,  1.0219,  1.1476, -1.4227],\n",
            "         [ 0.7006,  0.8962,  0.7844,  ...,  0.8543,  0.9660, -1.4227],\n",
            "         [-1.4227, -1.4227, -1.4227,  ...,  0.7286,  0.8403, -1.4227]]])\n",
            "[-0.04723759 -0.03436179 -0.02527555]\n",
            "[0.9850685  0.9876354  0.99304533]\n"
          ],
          "name": "stdout"
        }
      ]
    },
    {
      "cell_type": "code",
      "metadata": {
        "id": "yOz-RX9RZQHt",
        "colab_type": "code",
        "colab": {}
      },
      "source": [
        ""
      ],
      "execution_count": 0,
      "outputs": []
    },
    {
      "cell_type": "code",
      "metadata": {
        "id": "lVgnDvwPZY2p",
        "colab_type": "code",
        "outputId": "10d0941a-c9e8-40fa-f7b9-0cfbdadf9e9c",
        "colab": {
          "base_uri": "https://localhost:8080/",
          "height": 1000
        }
      },
      "source": [
        "!pip install torchsummary\n",
        "from torchsummary import summary\n",
        "\n",
        "use_cuda = torch.cuda.is_available()\n",
        "device = torch.device(\"cuda\" if use_cuda else \"cpu\")\n",
        "print (device)\n",
        "\n",
        "model = ResNet18().to(device)\n",
        "summary (model, input_size=(3, 224, 224))"
      ],
      "execution_count": 0,
      "outputs": [
        {
          "output_type": "stream",
          "text": [
            "Requirement already satisfied: torchsummary in /usr/local/lib/python3.6/dist-packages (1.5.1)\n",
            "cuda\n",
            "----------------------------------------------------------------\n",
            "        Layer (type)               Output Shape         Param #\n",
            "================================================================\n",
            "            Conv2d-1         [-1, 64, 224, 224]           1,728\n",
            "       BatchNorm2d-2         [-1, 64, 224, 224]             128\n",
            "            Conv2d-3         [-1, 64, 224, 224]          36,864\n",
            "       BatchNorm2d-4         [-1, 64, 224, 224]             128\n",
            "            Conv2d-5         [-1, 64, 224, 224]          36,864\n",
            "       BatchNorm2d-6         [-1, 64, 224, 224]             128\n",
            "        BasicBlock-7         [-1, 64, 224, 224]               0\n",
            "            Conv2d-8         [-1, 64, 224, 224]          36,864\n",
            "       BatchNorm2d-9         [-1, 64, 224, 224]             128\n",
            "           Conv2d-10         [-1, 64, 224, 224]          36,864\n",
            "      BatchNorm2d-11         [-1, 64, 224, 224]             128\n",
            "       BasicBlock-12         [-1, 64, 224, 224]               0\n",
            "           Conv2d-13        [-1, 128, 112, 112]          73,728\n",
            "      BatchNorm2d-14        [-1, 128, 112, 112]             256\n",
            "           Conv2d-15        [-1, 128, 112, 112]         147,456\n",
            "      BatchNorm2d-16        [-1, 128, 112, 112]             256\n",
            "           Conv2d-17        [-1, 128, 112, 112]           8,192\n",
            "      BatchNorm2d-18        [-1, 128, 112, 112]             256\n",
            "       BasicBlock-19        [-1, 128, 112, 112]               0\n",
            "           Conv2d-20        [-1, 128, 112, 112]         147,456\n",
            "      BatchNorm2d-21        [-1, 128, 112, 112]             256\n",
            "           Conv2d-22        [-1, 128, 112, 112]         147,456\n",
            "      BatchNorm2d-23        [-1, 128, 112, 112]             256\n",
            "       BasicBlock-24        [-1, 128, 112, 112]               0\n",
            "           Conv2d-25          [-1, 256, 56, 56]         294,912\n",
            "      BatchNorm2d-26          [-1, 256, 56, 56]             512\n",
            "           Conv2d-27          [-1, 256, 56, 56]         589,824\n",
            "      BatchNorm2d-28          [-1, 256, 56, 56]             512\n",
            "           Conv2d-29          [-1, 256, 56, 56]          32,768\n",
            "      BatchNorm2d-30          [-1, 256, 56, 56]             512\n",
            "       BasicBlock-31          [-1, 256, 56, 56]               0\n",
            "           Conv2d-32          [-1, 256, 56, 56]         589,824\n",
            "      BatchNorm2d-33          [-1, 256, 56, 56]             512\n",
            "           Conv2d-34          [-1, 256, 56, 56]         589,824\n",
            "      BatchNorm2d-35          [-1, 256, 56, 56]             512\n",
            "       BasicBlock-36          [-1, 256, 56, 56]               0\n",
            "           Conv2d-37          [-1, 512, 28, 28]       1,179,648\n",
            "      BatchNorm2d-38          [-1, 512, 28, 28]           1,024\n",
            "           Conv2d-39          [-1, 512, 28, 28]       2,359,296\n",
            "      BatchNorm2d-40          [-1, 512, 28, 28]           1,024\n",
            "           Conv2d-41          [-1, 512, 28, 28]         131,072\n",
            "      BatchNorm2d-42          [-1, 512, 28, 28]           1,024\n",
            "       BasicBlock-43          [-1, 512, 28, 28]               0\n",
            "           Conv2d-44          [-1, 512, 28, 28]       2,359,296\n",
            "      BatchNorm2d-45          [-1, 512, 28, 28]           1,024\n",
            "           Conv2d-46          [-1, 512, 28, 28]       2,359,296\n",
            "      BatchNorm2d-47          [-1, 512, 28, 28]           1,024\n",
            "       BasicBlock-48          [-1, 512, 28, 28]               0\n",
            "           Linear-49                    [-1, 2]           1,026\n",
            "================================================================\n",
            "Total params: 11,169,858\n",
            "Trainable params: 11,169,858\n",
            "Non-trainable params: 0\n",
            "----------------------------------------------------------------\n",
            "Input size (MB): 0.57\n",
            "Forward/backward pass size (MB): 551.25\n",
            "Params size (MB): 42.61\n",
            "Estimated Total Size (MB): 594.43\n",
            "----------------------------------------------------------------\n"
          ],
          "name": "stdout"
        }
      ]
    },
    {
      "cell_type": "code",
      "metadata": {
        "id": "JB67_QbcaV7E",
        "colab_type": "code",
        "colab": {}
      },
      "source": [
        "def train(model, device, train_loader, optimizer, epoch):\n",
        "  train_losses = []\n",
        "  train_acc = []\n",
        "  model.train()\n",
        "  pbar = tqdm(train_loader)\n",
        "  correct = 0\n",
        "  processed = 0\n",
        "  for batch_idx, (data) in enumerate(pbar):\n",
        "    # get samples\n",
        "    data = data.to(device)\n",
        "\n",
        "    # Init\n",
        "    optimizer.zero_grad()\n",
        "\n",
        "    # Predict\n",
        "    y_pred = model(data)\n",
        "\n",
        "    # Calculate loss\n",
        "    criterion = nn.L1Loss().cuda()\n",
        "    loss = criterion(y_pred, target)\n",
        "    train_losses.append(loss)\n",
        "\n",
        "    # Backpropagation\n",
        "    loss.backward()\n",
        "    optimizer.step()\n",
        "\n",
        "    # Update pbar-tqdm\n",
        "    \n",
        "    pred = y_pred.argmax(dim=1, keepdim=True)  # get the index of the max log-probability\n",
        "    correct += pred.eq(target.view_as(pred)).sum().item()\n",
        "    processed += len(data)\n",
        "\n",
        "    pbar.set_description(desc= f'Loss={loss.item():0.3f} Batch_id={batch_idx} Accuracy={100*correct/processed:0.2f}')\n",
        "    train_acc.append(100*correct/processed)\n",
        "  return train_losses, train_acc\n",
        "\n",
        "def test(model, device, test_loader):\n",
        "  model.eval()\n",
        "  test_losses = []\n",
        "  test_acc = []\n",
        "  test_loss = 0\n",
        "  correct = 0\n",
        "  with torch.no_grad():\n",
        "      for data, target in test_loader:\n",
        "          data, target = data.to(device), target.to(device)\n",
        "          output = model(data)\n",
        "          criterion = nn.L1Loss().cuda()\n",
        "          test_loss += criterion(output, target).item()  # sum up batch loss\n",
        "          pred = output.argmax(dim=1, keepdim=True)  # get the index of the max log-probability\n",
        "          correct += pred.eq(target.view_as(pred)).sum().item()\n",
        "\n",
        "  test_loss /= len(test_loader.dataset)\n",
        "  test_losses.append(test_loss)\n",
        "\n",
        "  print('\\nTest set: Average loss: {:.4f}, Accuracy: {}/{} ({:.2f}%)\\n'.format(\n",
        "      test_loss, correct, len(test_loader.dataset),\n",
        "      100. * correct / len(test_loader.dataset)))\n",
        "  \n",
        "  test_acc.append(100. * correct / len(test_loader.dataset))\n",
        "  return test_losses, test_acc"
      ],
      "execution_count": 0,
      "outputs": []
    },
    {
      "cell_type": "code",
      "metadata": {
        "id": "4IviAxh-Zq_E",
        "colab_type": "code",
        "colab": {}
      },
      "source": [
        "model = UNet(in_channels = 3, out_channels = 2).to(device)\n",
        "optimizer = optim.SGD(model.parameters(), lr=0.1, momentum=0.9, weight_decay=0.001)  # Removed Weight Decay\n",
        "scheduler = StepLR(optimizer, step_size=15, gamma=0.1)"
      ],
      "execution_count": 0,
      "outputs": []
    },
    {
      "cell_type": "code",
      "metadata": {
        "id": "Yhtc4dV-aHE2",
        "colab_type": "code",
        "outputId": "03c39617-c4a6-401e-bc86-e79b47248a4b",
        "colab": {
          "base_uri": "https://localhost:8080/",
          "height": 385
        }
      },
      "source": [
        "EPOCHS = 1\n",
        "for epoch in range(EPOCHS):\n",
        "    print(\"EPOCH:\", epoch+1)\n",
        "    a,b = train(model, device, dataset_loader, optimizer, epoch)\n",
        "    train_losses.extend(a)\n",
        "    train_acc.extend(b)\n",
        "    c,d = test(model, device, test_dataset_loader)\n",
        "    test_losses.extend(c)\n",
        "    test_acc.extend(d)\n",
        "    scheduler.step()\n",
        "    print('')"
      ],
      "execution_count": 0,
      "outputs": [
        {
          "output_type": "stream",
          "text": [
            "\n",
            "  0%|          | 0/9 [00:00<?, ?it/s]\u001b[A"
          ],
          "name": "stderr"
        },
        {
          "output_type": "stream",
          "text": [
            "EPOCH: 1\n"
          ],
          "name": "stdout"
        },
        {
          "output_type": "error",
          "ename": "ValueError",
          "evalue": "ignored",
          "traceback": [
            "\u001b[0;31m---------------------------------------------------------------------------\u001b[0m",
            "\u001b[0;31mValueError\u001b[0m                                Traceback (most recent call last)",
            "\u001b[0;32m<ipython-input-58-cbaba32040fb>\u001b[0m in \u001b[0;36m<module>\u001b[0;34m()\u001b[0m\n\u001b[1;32m      2\u001b[0m \u001b[0;32mfor\u001b[0m \u001b[0mepoch\u001b[0m \u001b[0;32min\u001b[0m \u001b[0mrange\u001b[0m\u001b[0;34m(\u001b[0m\u001b[0mEPOCHS\u001b[0m\u001b[0;34m)\u001b[0m\u001b[0;34m:\u001b[0m\u001b[0;34m\u001b[0m\u001b[0;34m\u001b[0m\u001b[0m\n\u001b[1;32m      3\u001b[0m     \u001b[0mprint\u001b[0m\u001b[0;34m(\u001b[0m\u001b[0;34m\"EPOCH:\"\u001b[0m\u001b[0;34m,\u001b[0m \u001b[0mepoch\u001b[0m\u001b[0;34m+\u001b[0m\u001b[0;36m1\u001b[0m\u001b[0;34m)\u001b[0m\u001b[0;34m\u001b[0m\u001b[0;34m\u001b[0m\u001b[0m\n\u001b[0;32m----> 4\u001b[0;31m     \u001b[0ma\u001b[0m\u001b[0;34m,\u001b[0m\u001b[0mb\u001b[0m \u001b[0;34m=\u001b[0m \u001b[0mtrain\u001b[0m\u001b[0;34m(\u001b[0m\u001b[0mmodel\u001b[0m\u001b[0;34m,\u001b[0m \u001b[0mdevice\u001b[0m\u001b[0;34m,\u001b[0m \u001b[0mdataset_loader\u001b[0m\u001b[0;34m,\u001b[0m \u001b[0moptimizer\u001b[0m\u001b[0;34m,\u001b[0m \u001b[0mepoch\u001b[0m\u001b[0;34m)\u001b[0m\u001b[0;34m\u001b[0m\u001b[0;34m\u001b[0m\u001b[0m\n\u001b[0m\u001b[1;32m      5\u001b[0m     \u001b[0mtrain_losses\u001b[0m\u001b[0;34m.\u001b[0m\u001b[0mextend\u001b[0m\u001b[0;34m(\u001b[0m\u001b[0ma\u001b[0m\u001b[0;34m)\u001b[0m\u001b[0;34m\u001b[0m\u001b[0;34m\u001b[0m\u001b[0m\n\u001b[1;32m      6\u001b[0m     \u001b[0mtrain_acc\u001b[0m\u001b[0;34m.\u001b[0m\u001b[0mextend\u001b[0m\u001b[0;34m(\u001b[0m\u001b[0mb\u001b[0m\u001b[0;34m)\u001b[0m\u001b[0;34m\u001b[0m\u001b[0;34m\u001b[0m\u001b[0m\n",
            "\u001b[0;32m<ipython-input-53-7f5da83e550f>\u001b[0m in \u001b[0;36mtrain\u001b[0;34m(model, device, train_loader, optimizer, epoch)\u001b[0m\n\u001b[1;32m      6\u001b[0m   \u001b[0mcorrect\u001b[0m \u001b[0;34m=\u001b[0m \u001b[0;36m0\u001b[0m\u001b[0;34m\u001b[0m\u001b[0;34m\u001b[0m\u001b[0m\n\u001b[1;32m      7\u001b[0m   \u001b[0mprocessed\u001b[0m \u001b[0;34m=\u001b[0m \u001b[0;36m0\u001b[0m\u001b[0;34m\u001b[0m\u001b[0;34m\u001b[0m\u001b[0m\n\u001b[0;32m----> 8\u001b[0;31m   \u001b[0;32mfor\u001b[0m \u001b[0mbatch_idx\u001b[0m\u001b[0;34m,\u001b[0m \u001b[0;34m(\u001b[0m\u001b[0mdata\u001b[0m\u001b[0;34m,\u001b[0m \u001b[0mtarget\u001b[0m\u001b[0;34m)\u001b[0m \u001b[0;32min\u001b[0m \u001b[0menumerate\u001b[0m\u001b[0;34m(\u001b[0m\u001b[0mpbar\u001b[0m\u001b[0;34m)\u001b[0m\u001b[0;34m:\u001b[0m\u001b[0;34m\u001b[0m\u001b[0;34m\u001b[0m\u001b[0m\n\u001b[0m\u001b[1;32m      9\u001b[0m     \u001b[0;31m# get samples\u001b[0m\u001b[0;34m\u001b[0m\u001b[0;34m\u001b[0m\u001b[0;34m\u001b[0m\u001b[0m\n\u001b[1;32m     10\u001b[0m     \u001b[0mdata\u001b[0m\u001b[0;34m,\u001b[0m \u001b[0mtarget\u001b[0m \u001b[0;34m=\u001b[0m \u001b[0mdata\u001b[0m\u001b[0;34m.\u001b[0m\u001b[0mto\u001b[0m\u001b[0;34m(\u001b[0m\u001b[0mdevice\u001b[0m\u001b[0;34m)\u001b[0m\u001b[0;34m,\u001b[0m \u001b[0mtarget\u001b[0m\u001b[0;34m.\u001b[0m\u001b[0mto\u001b[0m\u001b[0;34m(\u001b[0m\u001b[0mdevice\u001b[0m\u001b[0;34m)\u001b[0m\u001b[0;34m\u001b[0m\u001b[0;34m\u001b[0m\u001b[0m\n",
            "\u001b[0;31mValueError\u001b[0m: too many values to unpack (expected 2)"
          ]
        }
      ]
    },
    {
      "cell_type": "code",
      "metadata": {
        "id": "ZofngEfWSFzs",
        "colab_type": "code",
        "outputId": "92b17dca-2c5f-4dec-d9e8-1e01a6d4d160",
        "colab": {
          "base_uri": "https://localhost:8080/",
          "height": 132
        }
      },
      "source": [
        "class TinyImageNetDataSet (Dataset):\n",
        "  ### Tiny Image Net Data set Class ###\n",
        "\n",
        "  def __init__(self, class_file, root_dir, transform=None):\n",
        "    classes = []\n",
        "    train_data = []\n",
        "    train_labels = []\n",
        "\n",
        "    file = open(class_file, \"r\")\n",
        "\n",
        "    for line in file:\n",
        "      self.classes.append(line.strip())\n",
        "\n",
        "    file.close()\n",
        "\n",
        "    url = root_dir + 'train'\n",
        "\n",
        "    for class_name in self.classes:\n",
        "      for i in range (500):\n",
        "        self.train_data.append(plt.imread( (url + \"/{}/images/{}_{}.JPEG\".format(class_name, class_name, str(i))), 'RGB'))\n",
        "        self.train_labels.append(class_name)\n",
        "\n",
        "    print (len(self.train_data))\n",
        "    print (self.train_labels[0])\n",
        "\n",
        "  def __len__(self):\n",
        "    return len(self.train_data)\n",
        "\n",
        "  def __getitem__(self, idx):\n",
        "    \n"
      ],
      "execution_count": 0,
      "outputs": [
        {
          "output_type": "error",
          "ename": "SyntaxError",
          "evalue": "ignored",
          "traceback": [
            "\u001b[0;36m  File \u001b[0;32m\"<ipython-input-22-dccc1e8ec04e>\"\u001b[0;36m, line \u001b[0;32m30\u001b[0m\n\u001b[0;31m    \u001b[0m\n\u001b[0m    ^\u001b[0m\n\u001b[0;31mSyntaxError\u001b[0m\u001b[0;31m:\u001b[0m unexpected EOF while parsing\n"
          ]
        }
      ]
    },
    {
      "cell_type": "code",
      "metadata": {
        "id": "TZGww4KFRW_a",
        "colab_type": "code",
        "colab": {}
      },
      "source": [
        "trainloader = torch.utils.data.DataLoader(train_data, batch_size=128,\n",
        "                                              shuffle=True, num_workers=4)"
      ],
      "execution_count": 0,
      "outputs": []
    },
    {
      "cell_type": "code",
      "metadata": {
        "id": "SfgUYpsGRamu",
        "colab_type": "code",
        "colab": {}
      },
      "source": [
        "testloader = torch.utils.data.DataLoader(val_data, batch_size=128,\n",
        "                                             shuffle=False, num_workers=4)"
      ],
      "execution_count": 0,
      "outputs": []
    },
    {
      "cell_type": "code",
      "metadata": {
        "id": "kRh6qLv0RZL1",
        "colab_type": "code",
        "colab": {}
      },
      "source": [
        "!pip install torchsummary\n",
        "from torchsummary import summary\n",
        "use_cuda = torch.cuda.is_available()\n",
        "device = torch.device(\"cuda\" if use_cuda else \"cpu\")\n",
        "print(device)\n",
        "model = gm.get_model_instance().to(device)\n",
        "summary(model, input_size=(3, 64, 64))"
      ],
      "execution_count": 0,
      "outputs": []
    },
    {
      "cell_type": "code",
      "metadata": {
        "id": "8QDjNEzkRdTu",
        "colab_type": "code",
        "colab": {}
      },
      "source": [
        "model = gm.get_model_instance().to(device)\n",
        "optimizer = optim.SGD(model.parameters(), lr=0.1, momentum=0.9, weight_decay=0.001)\n",
        "scheduler = StepLR(optimizer, step_size=15, gamma=0.1)"
      ],
      "execution_count": 0,
      "outputs": []
    },
    {
      "cell_type": "code",
      "metadata": {
        "id": "77x3ydRXRfO3",
        "colab_type": "code",
        "colab": {}
      },
      "source": [
        "EPOCHS = 50\n",
        "for epoch in range(EPOCHS):\n",
        "    print(\"EPOCH:\", epoch+1)\n",
        "    a,b = ttd.train(model, device, trainloader, optimizer, epoch)\n",
        "    train_losses.extend(a)\n",
        "    train_acc.extend(b)\n",
        "    c,d = ttd.test(model, device, testloader)\n",
        "    test_losses.extend(c)\n",
        "    test_acc.extend(d)\n",
        "    scheduler.step()\n",
        "    print('')"
      ],
      "execution_count": 0,
      "outputs": []
    }
  ]
}